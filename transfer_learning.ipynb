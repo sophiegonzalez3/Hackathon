{
 "cells": [
  {
   "cell_type": "code",
   "execution_count": 1,
   "id": "e0ec2466-fe5c-4c39-84fd-c1eaed3c7abd",
   "metadata": {},
   "outputs": [
    {
     "name": "stdout",
     "output_type": "stream",
     "text": [
      "Note: you may need to restart the kernel to use updated packages.\n"
     ]
    }
   ],
   "source": [
    "%load_ext autoreload\n",
    "%autoreload 2\n",
    "%pip -q install -r requirements.txt"
   ]
  },
  {
   "cell_type": "code",
   "execution_count": 11,
   "id": "fbbc65a3-d8d9-46ab-be4a-fb7acdfdf0b9",
   "metadata": {},
   "outputs": [],
   "source": [
    "import matplotlib.pyplot as plt\n",
    "import numpy as np\n",
    "import torch\n",
    "from torch import optim\n",
    "\n",
    "from agent import MyAgent\n",
    "from models import DRQNetwork, MixingNetwork\n",
    "from transferlearning import train"
   ]
  },
  {
   "cell_type": "code",
   "execution_count": 19,
   "id": "f140b140-0049-4c49-839c-697bcf0d6a6a",
   "metadata": {},
   "outputs": [],
   "source": [
    "device = torch.device(\"cuda\" if torch.cuda.is_available() else \"cpu\")\n",
    "cloned_policy_path = \"./cloned_policy\"\n",
    "pretrained_mixer_path = \"./pretrained_mixer\"\n",
    "\n",
    "cloned_policy_net = DRQNetwork.load(cloned_policy_path).to(device)\n",
    "cloned_policy_net.gru.flatten_parameters()\n",
    "\n",
    "num_agents = 4\n",
    "central_state_size = 12 * num_agents + 901\n",
    "mixer = MixingNetwork(\n",
    "    num_agents=4,\n",
    "    central_state_size=central_state_size,\n",
    "    embedding_size=512,\n",
    "    hypernet_size=512,\n",
    ").to(device)"
   ]
  },
  {
   "cell_type": "code",
   "execution_count": 23,
   "id": "9600c42e-3286-442e-bafb-ca74fa37f068",
   "metadata": {},
   "outputs": [
    {
     "name": "stdout",
     "output_type": "stream",
     "text": [
      "Using QMIX agent with mixer network\n",
      "DRQNetwork(\n",
      "  (feature_layer): Sequential(\n",
      "    (0): Linear(in_features=42, out_features=512, bias=True)\n",
      "    (1): ReLU()\n",
      "    (2): Linear(in_features=512, out_features=512, bias=True)\n",
      "  )\n",
      "  (gru): GRU(512, 512, num_layers=2, batch_first=True)\n",
      "  (output_layer): Linear(in_features=512, out_features=7, bias=True)\n",
      ")\n",
      "MixingNetwork(\n",
      "  (hyper_w1): Sequential(\n",
      "    (0): Linear(in_features=949, out_features=512, bias=True)\n",
      "    (1): ELU(alpha=1.0)\n",
      "    (2): Linear(in_features=512, out_features=2048, bias=True)\n",
      "  )\n",
      "  (hyper_w2): Sequential(\n",
      "    (0): Linear(in_features=949, out_features=512, bias=True)\n",
      "    (1): ELU(alpha=1.0)\n",
      "    (2): Linear(in_features=512, out_features=512, bias=True)\n",
      "  )\n",
      "  (hyper_b1): Linear(in_features=949, out_features=512, bias=True)\n",
      "  (hyper_b2): Sequential(\n",
      "    (0): Linear(in_features=949, out_features=512, bias=True)\n",
      "    (1): ELU(alpha=1.0)\n",
      "    (2): Linear(in_features=512, out_features=1, bias=True)\n",
      "  )\n",
      ")\n",
      "Episode 1, Step 29, Reward: -60001.63, Evacuated: 0, Deactivated: 4, MEAN TD LOSS: 0.00e+00\n",
      "Episode 2, Step 82, Reward: -114011.05, Evacuated: 0, Deactivated: 4, MEAN TD LOSS: 0.00e+00\n",
      "Warning: Could only place 0 dynamic obstacles instead of 2 due to space constraints\n",
      "Episode 3, Step 35, Reward: -72001.11, Evacuated: 0, Deactivated: 4, MEAN TD LOSS: 0.00e+00\n",
      "Episode 4, Step 26, Reward: -58001.87, Evacuated: 0, Deactivated: 4, MEAN TD LOSS: 0.00e+00\n",
      "Warning: Could only place 0 dynamic obstacles instead of 3 due to space constraints\n",
      "Episode 5, Step 57, Reward: -99002.08, Evacuated: 0, Deactivated: 4, MEAN TD LOSS: 0.00e+00\n",
      "Episode 6, Step 53, Reward: -90004.73, Evacuated: 0, Deactivated: 4, MEAN TD LOSS: 0.00e+00\n",
      "Episode 7, Step 149, Reward: -217013.23, Evacuated: 0, Deactivated: 4, MEAN TD LOSS: 0.00e+00\n",
      "Warning: Could only place 0 dynamic obstacles instead of 2 due to space constraints\n",
      "Episode 8, Step 60, Reward: -128001.43, Evacuated: 0, Deactivated: 4, MEAN TD LOSS: 0.00e+00\n",
      "Episode 9, Step 71, Reward: -114007.36, Evacuated: 0, Deactivated: 4, MEAN TD LOSS: 0.00e+00\n",
      "Episode 10, Step 62, Reward: -69002.95, Evacuated: 0, Deactivated: 4, MEAN TD LOSS: 0.00e+00\n",
      "Episode 11, Step 23, Reward: -40000.93, Evacuated: 0, Deactivated: 4, MEAN TD LOSS: 0.00e+00\n",
      "Episode 12, Step 44, Reward: -51005.27, Evacuated: 0, Deactivated: 4, MEAN TD LOSS: 0.00e+00\n",
      "Episode 13, Step 78, Reward: -168005.57, Evacuated: 0, Deactivated: 4, MEAN TD LOSS: 0.00e+00\n",
      "Episode 14, Step 33, Reward: -73002.88, Evacuated: 0, Deactivated: 4, MEAN TD LOSS: 0.00e+00\n",
      "Episode 15, Step 48, Reward: -36007.91, Evacuated: 0, Deactivated: 4, MEAN TD LOSS: 0.00e+00\n",
      "Episode 16, Step 19, Reward: -25001.62, Evacuated: 0, Deactivated: 4, MEAN TD LOSS: 0.00e+00\n",
      "Episode 17, Step 54, Reward: -139003.25, Evacuated: 0, Deactivated: 4, MEAN TD LOSS: 0.00e+00\n",
      "Episode 18, Step 20, Reward: -46001.08, Evacuated: 0, Deactivated: 4, MEAN TD LOSS: 0.00e+00\n",
      "Episode 19, Step 83, Reward: -188005.42, Evacuated: 0, Deactivated: 4, MEAN TD LOSS: 0.00e+00\n",
      "Episode 20, Step 37, Reward: -73002.46, Evacuated: 0, Deactivated: 4, MEAN TD LOSS: 0.00e+00\n",
      "Episode 21, Step 142, Reward: -298008.47, Evacuated: 0, Deactivated: 4, MEAN TD LOSS: 0.00e+00\n",
      "Episode 22, Step 62, Reward: -59003.01, Evacuated: 0, Deactivated: 4, MEAN TD LOSS: 0.00e+00\n",
      "Episode 23, Step 35, Reward: -25003.63, Evacuated: 0, Deactivated: 4, MEAN TD LOSS: 0.00e+00\n",
      "Episode 24, Step 36, Reward: -71001.59, Evacuated: 0, Deactivated: 4, MEAN TD LOSS: 0.00e+00\n",
      "Episode 25, Step 36, Reward: -86001.82, Evacuated: 0, Deactivated: 4, MEAN TD LOSS: 0.00e+00\n",
      "Episode 26, Step 27, Reward: -45002.76, Evacuated: 0, Deactivated: 4, MEAN TD LOSS: 0.00e+00\n",
      "Episode 27, Step 21, Reward: -53001.46, Evacuated: 0, Deactivated: 4, MEAN TD LOSS: 0.00e+00\n",
      "Episode 28, Step 29, Reward: -65001.38, Evacuated: 0, Deactivated: 4, MEAN TD LOSS: 0.00e+00\n",
      "Episode 29, Step 86, Reward: -233991.82, Evacuated: 1, Deactivated: 3, MEAN TD LOSS: 0.00e+00\n",
      "Episode 30, Step 79, Reward: -188003.30, Evacuated: 0, Deactivated: 4, MEAN TD LOSS: 0.00e+00\n",
      "Warning: Could only place 0 dynamic obstacles instead of 3 due to space constraints\n",
      "Episode 31, Step 38, Reward: -79000.82, Evacuated: 0, Deactivated: 4, MEAN TD LOSS: 0.00e+00\n",
      "Episode 32, Step 108, Reward: -309002.78, Evacuated: 0, Deactivated: 4, MEAN TD LOSS: 0.00e+00\n",
      "Episode 33, Step 54, Reward: -72006.21, Evacuated: 0, Deactivated: 4, MEAN TD LOSS: 0.00e+00\n",
      "Warning: Could only place 0 dynamic obstacles instead of 3 due to space constraints\n",
      "Episode 34, Step 32, Reward: -63000.96, Evacuated: 0, Deactivated: 4, MEAN TD LOSS: 0.00e+00\n",
      "Episode 35, Step 19, Reward: -25000.80, Evacuated: 0, Deactivated: 4, MEAN TD LOSS: 0.00e+00\n",
      "Episode 36, Step 79, Reward: -168006.60, Evacuated: 0, Deactivated: 4, MEAN TD LOSS: 0.00e+00\n",
      "Episode 37, Step 74, Reward: -126992.19, Evacuated: 1, Deactivated: 3, MEAN TD LOSS: 0.00e+00\n",
      "Episode 38, Step 75, Reward: -178003.77, Evacuated: 0, Deactivated: 4, MEAN TD LOSS: 0.00e+00\n",
      "Episode 39, Step 67, Reward: -137004.13, Evacuated: 0, Deactivated: 4, MEAN TD LOSS: 0.00e+00\n",
      "Episode 40, Step 50, Reward: -100002.18, Evacuated: 0, Deactivated: 4, MEAN TD LOSS: 0.00e+00\n",
      "Episode 41, Step 33, Reward: -71002.69, Evacuated: 0, Deactivated: 4, MEAN TD LOSS: 0.00e+00\n",
      "Episode 42, Step 19, Reward: -26001.24, Evacuated: 0, Deactivated: 4, MEAN TD LOSS: 0.00e+00\n",
      "Episode 43, Step 29, Reward: -71001.70, Evacuated: 0, Deactivated: 4, MEAN TD LOSS: 0.00e+00\n",
      "Episode 44, Step 43, Reward: -111002.22, Evacuated: 0, Deactivated: 4, MEAN TD LOSS: 0.00e+00\n",
      "Episode 45, Step 36, Reward: -42005.28, Evacuated: 0, Deactivated: 4, MEAN TD LOSS: 0.00e+00\n",
      "Warning: Could only place 0 dynamic obstacles instead of 3 due to space constraints\n",
      "Episode 46, Step 22, Reward: -48000.30, Evacuated: 0, Deactivated: 4, MEAN TD LOSS: 0.00e+00\n",
      "Episode 47, Step 64, Reward: -124991.41, Evacuated: 1, Deactivated: 3, MEAN TD LOSS: 0.00e+00\n",
      "Episode 48, Step 116, Reward: -111971.56, Evacuated: 3, Deactivated: 1, MEAN TD LOSS: 0.00e+00\n",
      "Episode 49, Step 27, Reward: -48001.41, Evacuated: 0, Deactivated: 4, MEAN TD LOSS: 0.00e+00\n",
      "Episode 50, Step 67, Reward: -43970.89, Evacuated: 3, Deactivated: 1, MEAN TD LOSS: 0.00e+00\n",
      "Episode 51, Step 67, Reward: -85006.73, Evacuated: 0, Deactivated: 4, MEAN TD LOSS: 0.00e+00\n",
      "Warning: Could only place 0 dynamic obstacles instead of 3 due to space constraints\n",
      "Episode 52, Step 14, Reward: -31000.51, Evacuated: 0, Deactivated: 4, MEAN TD LOSS: 0.00e+00\n",
      "Episode 53, Step 16, Reward: -31001.06, Evacuated: 0, Deactivated: 4, MEAN TD LOSS: 0.00e+00\n",
      "Warning: Could only place 0 dynamic obstacles instead of 1 due to space constraints\n",
      "Episode 54, Step 27, Reward: -48000.64, Evacuated: 0, Deactivated: 4, MEAN TD LOSS: 0.00e+00\n",
      "Episode 55, Step 27, Reward: -41001.45, Evacuated: 0, Deactivated: 4, MEAN TD LOSS: 0.00e+00\n",
      "Episode 56, Step 33, Reward: -69000.71, Evacuated: 0, Deactivated: 4, MEAN TD LOSS: 0.00e+00\n",
      "Episode 57, Step 44, Reward: -117001.36, Evacuated: 0, Deactivated: 4, MEAN TD LOSS: 0.00e+00\n",
      "Episode 58, Step 28, Reward: -41003.43, Evacuated: 0, Deactivated: 4, MEAN TD LOSS: 0.00e+00\n",
      "Warning: Could only place 0 dynamic obstacles instead of 3 due to space constraints\n",
      "Episode 59, Step 62, Reward: -57002.30, Evacuated: 0, Deactivated: 4, MEAN TD LOSS: 0.00e+00\n",
      "Warning: Could only place 0 dynamic obstacles instead of 4 due to space constraints\n",
      "Episode 60, Step 51, Reward: -93990.77, Evacuated: 1, Deactivated: 3, MEAN TD LOSS: 0.00e+00\n",
      "Episode 61, Step 63, Reward: -164003.12, Evacuated: 0, Deactivated: 4, MEAN TD LOSS: 0.00e+00\n",
      "Episode 62, Step 49, Reward: -94004.25, Evacuated: 0, Deactivated: 4, MEAN TD LOSS: 0.00e+00\n",
      "Episode 63, Step 78, Reward: -160992.67, Evacuated: 1, Deactivated: 3, MEAN TD LOSS: 0.00e+00\n",
      "Episode 64, Step 57, Reward: -38991.17, Evacuated: 1, Deactivated: 3, MEAN TD LOSS: 0.00e+00\n",
      "Warning: Could only place 0 dynamic obstacles instead of 3 due to space constraints\n",
      "Episode 65, Step 33, Reward: -50980.18, Evacuated: 2, Deactivated: 2, MEAN TD LOSS: 5.59e+01\n",
      "Warning: Could only place 0 dynamic obstacles instead of 4 due to space constraints\n",
      "Episode 66, Step 29, Reward: -54980.13, Evacuated: 2, Deactivated: 2, MEAN TD LOSS: 3.22e+01\n",
      "Episode 67, Step 61, Reward: -75003.23, Evacuated: 0, Deactivated: 4, MEAN TD LOSS: 2.90e+01\n",
      "Warning: Could only place 0 dynamic obstacles instead of 4 due to space constraints\n",
      "Episode 68, Step 6, Reward: -17000.09, Evacuated: 0, Deactivated: 4, MEAN TD LOSS: 2.70e+01\n",
      "Episode 69, Step 78, Reward: -73983.49, Evacuated: 2, Deactivated: 2, MEAN TD LOSS: 2.68e+01\n",
      "Episode 70, Step 35, Reward: -62003.44, Evacuated: 0, Deactivated: 4, MEAN TD LOSS: 2.42e+01\n",
      "Episode 71, Step 71, Reward: -162992.32, Evacuated: 1, Deactivated: 3, MEAN TD LOSS: 2.40e+01\n",
      "Warning: Could only place 0 dynamic obstacles instead of 2 due to space constraints\n",
      "Episode 72, Step 13, Reward: -22000.38, Evacuated: 0, Deactivated: 4, MEAN TD LOSS: 2.34e+01\n",
      "Warning: Could only place 0 dynamic obstacles instead of 1 due to space constraints\n",
      "Episode 73, Step 54, Reward: -145000.96, Evacuated: 0, Deactivated: 4, MEAN TD LOSS: 2.36e+01\n",
      "Episode 74, Step 45, Reward: -33971.06, Evacuated: 3, Deactivated: 1, MEAN TD LOSS: 2.35e+01\n",
      "Episode 75, Step 22, Reward: -25002.05, Evacuated: 0, Deactivated: 4, MEAN TD LOSS: 2.34e+01\n",
      "Episode 76, Step 51, Reward: -88004.27, Evacuated: 0, Deactivated: 4, MEAN TD LOSS: 2.37e+01\n",
      "Episode 77, Step 28, Reward: -44001.49, Evacuated: 0, Deactivated: 4, MEAN TD LOSS: 2.17e+01\n",
      "Episode 78, Step 79, Reward: -45983.41, Evacuated: 2, Deactivated: 2, MEAN TD LOSS: 2.12e+01\n",
      "Episode 79, Step 120, Reward: -259996.24, Evacuated: 1, Deactivated: 3, MEAN TD LOSS: 2.13e+01\n",
      "Episode 80, Step 25, Reward: -32002.59, Evacuated: 0, Deactivated: 4, MEAN TD LOSS: 2.02e+01\n",
      "Episode 81, Step 198, Reward: -400006.51, Evacuated: 0, Deactivated: 4, MEAN TD LOSS: 2.08e+01\n",
      "Episode 82, Step 42, Reward: -84990.84, Evacuated: 1, Deactivated: 3, MEAN TD LOSS: 2.09e+01\n",
      "Episode 83, Step 76, Reward: -101006.52, Evacuated: 0, Deactivated: 4, MEAN TD LOSS: 2.11e+01\n",
      "Episode 84, Step 76, Reward: -196992.28, Evacuated: 1, Deactivated: 3, MEAN TD LOSS: 1.99e+01\n",
      "Warning: Could only place 0 dynamic obstacles instead of 2 due to space constraints\n",
      "Episode 85, Step 27, Reward: -26970.00, Evacuated: 3, Deactivated: 1, MEAN TD LOSS: 2.02e+01\n",
      "Episode 86, Step 51, Reward: -94001.87, Evacuated: 0, Deactivated: 4, MEAN TD LOSS: 2.03e+01\n",
      "Episode 87, Step 50, Reward: -62001.78, Evacuated: 0, Deactivated: 4, MEAN TD LOSS: 1.94e+01\n",
      "Episode 88, Step 36, Reward: -96001.08, Evacuated: 0, Deactivated: 4, MEAN TD LOSS: 2.01e+01\n",
      "Episode 89, Step 120, Reward: -112975.13, Evacuated: 3, Deactivated: 1, MEAN TD LOSS: 1.99e+01\n",
      "Episode 90, Step 65, Reward: -121005.85, Evacuated: 0, Deactivated: 4, MEAN TD LOSS: 2.05e+01\n",
      "Episode 91, Step 58, Reward: -108001.61, Evacuated: 0, Deactivated: 4, MEAN TD LOSS: 2.00e+01\n",
      "Warning: Could only place 0 dynamic obstacles instead of 1 due to space constraints\n",
      "Episode 92, Step 36, Reward: -26980.22, Evacuated: 2, Deactivated: 2, MEAN TD LOSS: 1.97e+01\n",
      "Warning: Could only place 0 dynamic obstacles instead of 1 due to space constraints\n",
      "Episode 93, Step 28, Reward: -14980.12, Evacuated: 2, Deactivated: 2, MEAN TD LOSS: 1.97e+01\n",
      "Episode 94, Step 23, Reward: -49001.17, Evacuated: 0, Deactivated: 4, MEAN TD LOSS: 1.96e+01\n",
      "Warning: Could only place 0 dynamic obstacles instead of 2 due to space constraints\n",
      "Episode 95, Step 12, Reward: -18000.47, Evacuated: 0, Deactivated: 4, MEAN TD LOSS: 2.09e+01\n",
      "Episode 96, Step 44, Reward: -89001.25, Evacuated: 0, Deactivated: 4, MEAN TD LOSS: 2.02e+01\n",
      "Episode 97, Step 47, Reward: -67981.19, Evacuated: 2, Deactivated: 2, MEAN TD LOSS: 2.03e+01\n",
      "Episode 98, Step 81, Reward: -108003.03, Evacuated: 0, Deactivated: 4, MEAN TD LOSS: 1.98e+01\n",
      "Episode 99, Step 25, Reward: -26001.17, Evacuated: 0, Deactivated: 4, MEAN TD LOSS: 2.00e+01\n",
      "Episode 100, Step 3, Reward: -6000.23, Evacuated: 0, Deactivated: 4, MEAN TD LOSS: 1.77e+01\n"
     ]
    }
   ],
   "source": [
    "my_agent = MyAgent(\n",
    "    num_agents=4,\n",
    "    device=device,\n",
    "    policy_net=cloned_policy_net,\n",
    "    mixing_net=mixer,\n",
    "    buffer_size=2000,\n",
    "    batch_sequence_length=20,\n",
    "    batch_size=64,\n",
    "    lr=1e-4,\n",
    "    gamma=0.99,\n",
    "    epsilon=1.0,\n",
    "    epsilon_end=0.01,\n",
    "    epsilon_decay=0.9995,\n",
    "    target_update_freq=1,\n",
    "    tau=1e-3,\n",
    "    gradient_clipping_value=10,\n",
    ")\n",
    "\n",
    "# Freeze the policy\n",
    "for p in my_agent.policy_net.parameters():\n",
    "    p.requires_grad = False\n",
    "\n",
    "my_agent.optimizer = optim.AdamW(my_agent.mixer.parameters(), lr=my_agent.lr)\n",
    "\n",
    "trained_agent, all_rewards, all_losses = train(my_agent, num_episodes=100)"
   ]
  },
  {
   "cell_type": "code",
   "execution_count": 26,
   "id": "1a49e214-a969-484e-a6f6-949405fa53d1",
   "metadata": {},
   "outputs": [
    {
     "data": {
      "text/plain": [
       "Text(0, 0.5, 'TD-Loss')"
      ]
     },
     "execution_count": 26,
     "metadata": {},
     "output_type": "execute_result"
    },
    {
     "data": {
      "image/png": "[encoded data removed]",
      "text/plain": [
       "<Figure size 640x480 with 1 Axes>"
      ]
     },
     "metadata": {},
     "output_type": "display_data"
    }
   ],
   "source": [
    "fig, ax = plt.subplots()\n",
    "ax.semilogy(all_losses)\n",
    "ax.set_xlabel(\"Steps\")\n",
    "ax.set_ylabel(\"TD-Loss\")"
   ]
  },
  {
   "cell_type": "code",
   "execution_count": 28,
   "id": "5baf619a-79ad-4c16-9493-f2f2f2726e1b",
   "metadata": {},
   "outputs": [
    {
     "name": "stdout",
     "output_type": "stream",
     "text": [
      "Model saved to ./pretrained_mixer\n"
     ]
    }
   ],
   "source": [
    "trained_agent.mixer.save(pretrained_mixer_path)"
   ]
  }
 ],
 "metadata": {
  "kernelspec": {
   "display_name": "Python 3 (ipykernel)",
   "language": "python",
   "name": "python3"
  },
  "language_info": {
   "codemirror_mode": {
    "name": "ipython",
    "version": 3
   },
   "file_extension": ".py",
   "mimetype": "text/x-python",
   "name": "python",
   "nbconvert_exporter": "python",
   "pygments_lexer": "ipython3",
   "version": "3.11.11"
  }
 },
 "nbformat": 4,
 "nbformat_minor": 5
}
