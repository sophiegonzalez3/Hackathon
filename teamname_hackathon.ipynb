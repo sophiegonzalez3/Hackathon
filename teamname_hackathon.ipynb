{
 "cells": [
  {
   "cell_type": "markdown",
   "id": "d271c0b8",
   "metadata": {},
   "source": [
    "# Hackathon : Reinforcement Learning for Drone Navigation"
   ]
  },
  {
   "cell_type": "markdown",
   "id": "0b59b4fd",
   "metadata": {},
   "source": [
    "- Team name:\n",
    "- Team members names:"
   ]
  },
  {
   "cell_type": "markdown",
   "id": "fb5f6162-b5c3-462f-8c79-1fe99d16f175",
   "metadata": {},
   "source": [
    "## 0. Prerequisites"
   ]
  },
  {
   "cell_type": "code",
   "execution_count": 1,
   "id": "68618ae7-0858-4006-be28-cd1451979861",
   "metadata": {
    "scrolled": true
   },
   "outputs": [
    {
     "name": "stdout",
     "output_type": "stream",
     "text": [
      "Requirement already satisfied: keyboard in /Users/manuelnovolopes/opt/anaconda3/lib/python3.9/site-packages (0.13.5)\n",
      "Requirement already satisfied: pyobjc in /Users/manuelnovolopes/opt/anaconda3/lib/python3.9/site-packages (from keyboard) (11.0)\n",
      "Requirement already satisfied: pyobjc-core==11.0 in /Users/manuelnovolopes/opt/anaconda3/lib/python3.9/site-packages (from pyobjc->keyboard) (11.0)\n",
      "Requirement already satisfied: pyobjc-framework-libdispatch==11.0 in /Users/manuelnovolopes/opt/anaconda3/lib/python3.9/site-packages (from pyobjc->keyboard) (11.0)\n",
      "Requirement already satisfied: pyobjc-framework-libxpc==11.0 in /Users/manuelnovolopes/opt/anaconda3/lib/python3.9/site-packages (from pyobjc->keyboard) (11.0)\n",
      "Requirement already satisfied: pyobjc-framework-Accessibility==11.0 in /Users/manuelnovolopes/opt/anaconda3/lib/python3.9/site-packages (from pyobjc->keyboard) (11.0)\n",
      "Requirement already satisfied: pyobjc-framework-AdServices==11.0 in /Users/manuelnovolopes/opt/anaconda3/lib/python3.9/site-packages (from pyobjc->keyboard) (11.0)\n",
      "Requirement already satisfied: pyobjc-framework-AdSupport==11.0 in /Users/manuelnovolopes/opt/anaconda3/lib/python3.9/site-packages (from pyobjc->keyboard) (11.0)\n",
      "Requirement already satisfied: pyobjc-framework-AppTrackingTransparency==11.0 in /Users/manuelnovolopes/opt/anaconda3/lib/python3.9/site-packages (from pyobjc->keyboard) (11.0)\n",
      "Requirement already satisfied: pyobjc-framework-AudioVideoBridging==11.0 in /Users/manuelnovolopes/opt/anaconda3/lib/python3.9/site-packages (from pyobjc->keyboard) (11.0)\n",
      "Requirement already satisfied: pyobjc-framework-AuthenticationServices==11.0 in /Users/manuelnovolopes/opt/anaconda3/lib/python3.9/site-packages (from pyobjc->keyboard) (11.0)\n",
      "Requirement already satisfied: pyobjc-framework-AutomaticAssessmentConfiguration==11.0 in /Users/manuelnovolopes/opt/anaconda3/lib/python3.9/site-packages (from pyobjc->keyboard) (11.0)\n",
      "Requirement already satisfied: pyobjc-framework-AVKit==11.0 in /Users/manuelnovolopes/opt/anaconda3/lib/python3.9/site-packages (from pyobjc->keyboard) (11.0)\n",
      "Requirement already satisfied: pyobjc-framework-AVFoundation==11.0 in /Users/manuelnovolopes/opt/anaconda3/lib/python3.9/site-packages (from pyobjc->keyboard) (11.0)\n",
      "Requirement already satisfied: pyobjc-framework-AVRouting==11.0 in /Users/manuelnovolopes/opt/anaconda3/lib/python3.9/site-packages (from pyobjc->keyboard) (11.0)\n",
      "Requirement already satisfied: pyobjc-framework-Accounts==11.0 in /Users/manuelnovolopes/opt/anaconda3/lib/python3.9/site-packages (from pyobjc->keyboard) (11.0)\n",
      "Requirement already satisfied: pyobjc-framework-AddressBook==11.0 in /Users/manuelnovolopes/opt/anaconda3/lib/python3.9/site-packages (from pyobjc->keyboard) (11.0)\n",
      "Requirement already satisfied: pyobjc-framework-AppleScriptKit==11.0 in /Users/manuelnovolopes/opt/anaconda3/lib/python3.9/site-packages (from pyobjc->keyboard) (11.0)\n",
      "Requirement already satisfied: pyobjc-framework-AppleScriptObjC==11.0 in /Users/manuelnovolopes/opt/anaconda3/lib/python3.9/site-packages (from pyobjc->keyboard) (11.0)\n",
      "Requirement already satisfied: pyobjc-framework-ApplicationServices==11.0 in /Users/manuelnovolopes/opt/anaconda3/lib/python3.9/site-packages (from pyobjc->keyboard) (11.0)\n",
      "Requirement already satisfied: pyobjc-framework-Automator==11.0 in /Users/manuelnovolopes/opt/anaconda3/lib/python3.9/site-packages (from pyobjc->keyboard) (11.0)\n",
      "Requirement already satisfied: pyobjc-framework-BackgroundAssets==11.0 in /Users/manuelnovolopes/opt/anaconda3/lib/python3.9/site-packages (from pyobjc->keyboard) (11.0)\n",
      "Requirement already satisfied: pyobjc-framework-BrowserEngineKit==11.0 in /Users/manuelnovolopes/opt/anaconda3/lib/python3.9/site-packages (from pyobjc->keyboard) (11.0)\n",
      "Requirement already satisfied: pyobjc-framework-BusinessChat==11.0 in /Users/manuelnovolopes/opt/anaconda3/lib/python3.9/site-packages (from pyobjc->keyboard) (11.0)\n",
      "Requirement already satisfied: pyobjc-framework-CFNetwork==11.0 in /Users/manuelnovolopes/opt/anaconda3/lib/python3.9/site-packages (from pyobjc->keyboard) (11.0)\n",
      "Requirement already satisfied: pyobjc-framework-CalendarStore==11.0 in /Users/manuelnovolopes/opt/anaconda3/lib/python3.9/site-packages (from pyobjc->keyboard) (11.0)\n",
      "Requirement already satisfied: pyobjc-framework-CallKit==11.0 in /Users/manuelnovolopes/opt/anaconda3/lib/python3.9/site-packages (from pyobjc->keyboard) (11.0)\n",
      "Requirement already satisfied: pyobjc-framework-Carbon==11.0 in /Users/manuelnovolopes/opt/anaconda3/lib/python3.9/site-packages (from pyobjc->keyboard) (11.0)\n",
      "Requirement already satisfied: pyobjc-framework-Cinematic==11.0 in /Users/manuelnovolopes/opt/anaconda3/lib/python3.9/site-packages (from pyobjc->keyboard) (11.0)\n",
      "Requirement already satisfied: pyobjc-framework-ClassKit==11.0 in /Users/manuelnovolopes/opt/anaconda3/lib/python3.9/site-packages (from pyobjc->keyboard) (11.0)\n",
      "Requirement already satisfied: pyobjc-framework-CloudKit==11.0 in /Users/manuelnovolopes/opt/anaconda3/lib/python3.9/site-packages (from pyobjc->keyboard) (11.0)\n",
      "Requirement already satisfied: pyobjc-framework-Cocoa==11.0 in /Users/manuelnovolopes/opt/anaconda3/lib/python3.9/site-packages (from pyobjc->keyboard) (11.0)\n",
      "Requirement already satisfied: pyobjc-framework-Collaboration==11.0 in /Users/manuelnovolopes/opt/anaconda3/lib/python3.9/site-packages (from pyobjc->keyboard) (11.0)\n",
      "Requirement already satisfied: pyobjc-framework-ColorSync==11.0 in /Users/manuelnovolopes/opt/anaconda3/lib/python3.9/site-packages (from pyobjc->keyboard) (11.0)\n",
      "Requirement already satisfied: pyobjc-framework-Contacts==11.0 in /Users/manuelnovolopes/opt/anaconda3/lib/python3.9/site-packages (from pyobjc->keyboard) (11.0)\n",
      "Requirement already satisfied: pyobjc-framework-ContactsUI==11.0 in /Users/manuelnovolopes/opt/anaconda3/lib/python3.9/site-packages (from pyobjc->keyboard) (11.0)\n",
      "Requirement already satisfied: pyobjc-framework-CoreAudio==11.0 in /Users/manuelnovolopes/opt/anaconda3/lib/python3.9/site-packages (from pyobjc->keyboard) (11.0)\n",
      "Requirement already satisfied: pyobjc-framework-CoreAudioKit==11.0 in /Users/manuelnovolopes/opt/anaconda3/lib/python3.9/site-packages (from pyobjc->keyboard) (11.0)\n",
      "Requirement already satisfied: pyobjc-framework-CoreBluetooth==11.0 in /Users/manuelnovolopes/opt/anaconda3/lib/python3.9/site-packages (from pyobjc->keyboard) (11.0)\n",
      "Requirement already satisfied: pyobjc-framework-CoreData==11.0 in /Users/manuelnovolopes/opt/anaconda3/lib/python3.9/site-packages (from pyobjc->keyboard) (11.0)\n",
      "Requirement already satisfied: pyobjc-framework-CoreHaptics==11.0 in /Users/manuelnovolopes/opt/anaconda3/lib/python3.9/site-packages (from pyobjc->keyboard) (11.0)\n",
      "Requirement already satisfied: pyobjc-framework-CoreLocation==11.0 in /Users/manuelnovolopes/opt/anaconda3/lib/python3.9/site-packages (from pyobjc->keyboard) (11.0)\n",
      "Requirement already satisfied: pyobjc-framework-CoreMedia==11.0 in /Users/manuelnovolopes/opt/anaconda3/lib/python3.9/site-packages (from pyobjc->keyboard) (11.0)\n",
      "Requirement already satisfied: pyobjc-framework-CoreMediaIO==11.0 in /Users/manuelnovolopes/opt/anaconda3/lib/python3.9/site-packages (from pyobjc->keyboard) (11.0)\n",
      "Requirement already satisfied: pyobjc-framework-CoreMIDI==11.0 in /Users/manuelnovolopes/opt/anaconda3/lib/python3.9/site-packages (from pyobjc->keyboard) (11.0)\n",
      "Requirement already satisfied: pyobjc-framework-CoreML==11.0 in /Users/manuelnovolopes/opt/anaconda3/lib/python3.9/site-packages (from pyobjc->keyboard) (11.0)\n",
      "Requirement already satisfied: pyobjc-framework-CoreMotion==11.0 in /Users/manuelnovolopes/opt/anaconda3/lib/python3.9/site-packages (from pyobjc->keyboard) (11.0)\n",
      "Requirement already satisfied: pyobjc-framework-CoreServices==11.0 in /Users/manuelnovolopes/opt/anaconda3/lib/python3.9/site-packages (from pyobjc->keyboard) (11.0)\n",
      "Requirement already satisfied: pyobjc-framework-CoreSpotlight==11.0 in /Users/manuelnovolopes/opt/anaconda3/lib/python3.9/site-packages (from pyobjc->keyboard) (11.0)\n",
      "Requirement already satisfied: pyobjc-framework-CoreText==11.0 in /Users/manuelnovolopes/opt/anaconda3/lib/python3.9/site-packages (from pyobjc->keyboard) (11.0)\n",
      "Requirement already satisfied: pyobjc-framework-CoreWLAN==11.0 in /Users/manuelnovolopes/opt/anaconda3/lib/python3.9/site-packages (from pyobjc->keyboard) (11.0)\n",
      "Requirement already satisfied: pyobjc-framework-CryptoTokenKit==11.0 in /Users/manuelnovolopes/opt/anaconda3/lib/python3.9/site-packages (from pyobjc->keyboard) (11.0)\n",
      "Requirement already satisfied: pyobjc-framework-DataDetection==11.0 in /Users/manuelnovolopes/opt/anaconda3/lib/python3.9/site-packages (from pyobjc->keyboard) (11.0)\n",
      "Requirement already satisfied: pyobjc-framework-DeviceCheck==11.0 in /Users/manuelnovolopes/opt/anaconda3/lib/python3.9/site-packages (from pyobjc->keyboard) (11.0)\n",
      "Requirement already satisfied: pyobjc-framework-DeviceDiscoveryExtension==11.0 in /Users/manuelnovolopes/opt/anaconda3/lib/python3.9/site-packages (from pyobjc->keyboard) (11.0)\n",
      "Requirement already satisfied: pyobjc-framework-DictionaryServices==11.0 in /Users/manuelnovolopes/opt/anaconda3/lib/python3.9/site-packages (from pyobjc->keyboard) (11.0)\n",
      "Requirement already satisfied: pyobjc-framework-DiscRecording==11.0 in /Users/manuelnovolopes/opt/anaconda3/lib/python3.9/site-packages (from pyobjc->keyboard) (11.0)\n",
      "Requirement already satisfied: pyobjc-framework-DiscRecordingUI==11.0 in /Users/manuelnovolopes/opt/anaconda3/lib/python3.9/site-packages (from pyobjc->keyboard) (11.0)\n",
      "Requirement already satisfied: pyobjc-framework-DiskArbitration==11.0 in /Users/manuelnovolopes/opt/anaconda3/lib/python3.9/site-packages (from pyobjc->keyboard) (11.0)\n",
      "Requirement already satisfied: pyobjc-framework-DVDPlayback==11.0 in /Users/manuelnovolopes/opt/anaconda3/lib/python3.9/site-packages (from pyobjc->keyboard) (11.0)\n",
      "Requirement already satisfied: pyobjc-framework-EventKit==11.0 in /Users/manuelnovolopes/opt/anaconda3/lib/python3.9/site-packages (from pyobjc->keyboard) (11.0)\n",
      "Requirement already satisfied: pyobjc-framework-ExceptionHandling==11.0 in /Users/manuelnovolopes/opt/anaconda3/lib/python3.9/site-packages (from pyobjc->keyboard) (11.0)\n",
      "Requirement already satisfied: pyobjc-framework-ExecutionPolicy==11.0 in /Users/manuelnovolopes/opt/anaconda3/lib/python3.9/site-packages (from pyobjc->keyboard) (11.0)\n",
      "Requirement already satisfied: pyobjc-framework-ExternalAccessory==11.0 in /Users/manuelnovolopes/opt/anaconda3/lib/python3.9/site-packages (from pyobjc->keyboard) (11.0)\n",
      "Requirement already satisfied: pyobjc-framework-ExtensionKit==11.0 in /Users/manuelnovolopes/opt/anaconda3/lib/python3.9/site-packages (from pyobjc->keyboard) (11.0)\n",
      "Requirement already satisfied: pyobjc-framework-FileProvider==11.0 in /Users/manuelnovolopes/opt/anaconda3/lib/python3.9/site-packages (from pyobjc->keyboard) (11.0)\n",
      "Requirement already satisfied: pyobjc-framework-FileProviderUI==11.0 in /Users/manuelnovolopes/opt/anaconda3/lib/python3.9/site-packages (from pyobjc->keyboard) (11.0)\n",
      "Requirement already satisfied: pyobjc-framework-FSEvents==11.0 in /Users/manuelnovolopes/opt/anaconda3/lib/python3.9/site-packages (from pyobjc->keyboard) (11.0)\n",
      "Requirement already satisfied: pyobjc-framework-FinderSync==11.0 in /Users/manuelnovolopes/opt/anaconda3/lib/python3.9/site-packages (from pyobjc->keyboard) (11.0)\n",
      "Requirement already satisfied: pyobjc-framework-GameCenter==11.0 in /Users/manuelnovolopes/opt/anaconda3/lib/python3.9/site-packages (from pyobjc->keyboard) (11.0)\n",
      "Requirement already satisfied: pyobjc-framework-GameController==11.0 in /Users/manuelnovolopes/opt/anaconda3/lib/python3.9/site-packages (from pyobjc->keyboard) (11.0)\n",
      "Requirement already satisfied: pyobjc-framework-HealthKit==11.0 in /Users/manuelnovolopes/opt/anaconda3/lib/python3.9/site-packages (from pyobjc->keyboard) (11.0)\n",
      "Requirement already satisfied: pyobjc-framework-InputMethodKit==11.0 in /Users/manuelnovolopes/opt/anaconda3/lib/python3.9/site-packages (from pyobjc->keyboard) (11.0)\n",
      "Requirement already satisfied: pyobjc-framework-ImageCaptureCore==11.0 in /Users/manuelnovolopes/opt/anaconda3/lib/python3.9/site-packages (from pyobjc->keyboard) (11.0)\n",
      "Requirement already satisfied: pyobjc-framework-Intents==11.0 in /Users/manuelnovolopes/opt/anaconda3/lib/python3.9/site-packages (from pyobjc->keyboard) (11.0)\n",
      "Requirement already satisfied: pyobjc-framework-IntentsUI==11.0 in /Users/manuelnovolopes/opt/anaconda3/lib/python3.9/site-packages (from pyobjc->keyboard) (11.0)\n",
      "Requirement already satisfied: pyobjc-framework-InstallerPlugins==11.0 in /Users/manuelnovolopes/opt/anaconda3/lib/python3.9/site-packages (from pyobjc->keyboard) (11.0)\n",
      "Requirement already satisfied: pyobjc-framework-InstantMessage==11.0 in /Users/manuelnovolopes/opt/anaconda3/lib/python3.9/site-packages (from pyobjc->keyboard) (11.0)\n",
      "Requirement already satisfied: pyobjc-framework-IOBluetooth==11.0 in /Users/manuelnovolopes/opt/anaconda3/lib/python3.9/site-packages (from pyobjc->keyboard) (11.0)\n",
      "Requirement already satisfied: pyobjc-framework-IOBluetoothUI==11.0 in /Users/manuelnovolopes/opt/anaconda3/lib/python3.9/site-packages (from pyobjc->keyboard) (11.0)\n",
      "Requirement already satisfied: pyobjc-framework-IOSurface==11.0 in /Users/manuelnovolopes/opt/anaconda3/lib/python3.9/site-packages (from pyobjc->keyboard) (11.0)\n",
      "Requirement already satisfied: pyobjc-framework-KernelManagement==11.0 in /Users/manuelnovolopes/opt/anaconda3/lib/python3.9/site-packages (from pyobjc->keyboard) (11.0)\n",
      "Requirement already satisfied: pyobjc-framework-LatentSemanticMapping==11.0 in /Users/manuelnovolopes/opt/anaconda3/lib/python3.9/site-packages (from pyobjc->keyboard) (11.0)\n",
      "Requirement already satisfied: pyobjc-framework-LaunchServices==11.0 in /Users/manuelnovolopes/opt/anaconda3/lib/python3.9/site-packages (from pyobjc->keyboard) (11.0)\n",
      "Requirement already satisfied: pyobjc-framework-LinkPresentation==11.0 in /Users/manuelnovolopes/opt/anaconda3/lib/python3.9/site-packages (from pyobjc->keyboard) (11.0)\n",
      "Requirement already satisfied: pyobjc-framework-LocalAuthentication==11.0 in /Users/manuelnovolopes/opt/anaconda3/lib/python3.9/site-packages (from pyobjc->keyboard) (11.0)\n",
      "Requirement already satisfied: pyobjc-framework-LocalAuthenticationEmbeddedUI==11.0 in /Users/manuelnovolopes/opt/anaconda3/lib/python3.9/site-packages (from pyobjc->keyboard) (11.0)\n",
      "Requirement already satisfied: pyobjc-framework-MailKit==11.0 in /Users/manuelnovolopes/opt/anaconda3/lib/python3.9/site-packages (from pyobjc->keyboard) (11.0)\n",
      "Requirement already satisfied: pyobjc-framework-MapKit==11.0 in /Users/manuelnovolopes/opt/anaconda3/lib/python3.9/site-packages (from pyobjc->keyboard) (11.0)\n",
      "Requirement already satisfied: pyobjc-framework-MediaAccessibility==11.0 in /Users/manuelnovolopes/opt/anaconda3/lib/python3.9/site-packages (from pyobjc->keyboard) (11.0)\n",
      "Requirement already satisfied: pyobjc-framework-MediaExtension==11.0 in /Users/manuelnovolopes/opt/anaconda3/lib/python3.9/site-packages (from pyobjc->keyboard) (11.0)\n",
      "Requirement already satisfied: pyobjc-framework-MediaLibrary==11.0 in /Users/manuelnovolopes/opt/anaconda3/lib/python3.9/site-packages (from pyobjc->keyboard) (11.0)\n",
      "Requirement already satisfied: pyobjc-framework-MediaPlayer==11.0 in /Users/manuelnovolopes/opt/anaconda3/lib/python3.9/site-packages (from pyobjc->keyboard) (11.0)\n",
      "Requirement already satisfied: pyobjc-framework-MediaToolbox==11.0 in /Users/manuelnovolopes/opt/anaconda3/lib/python3.9/site-packages (from pyobjc->keyboard) (11.0)\n",
      "Requirement already satisfied: pyobjc-framework-Metal==11.0 in /Users/manuelnovolopes/opt/anaconda3/lib/python3.9/site-packages (from pyobjc->keyboard) (11.0)\n",
      "Requirement already satisfied: pyobjc-framework-MetalFX==11.0 in /Users/manuelnovolopes/opt/anaconda3/lib/python3.9/site-packages (from pyobjc->keyboard) (11.0)\n",
      "Requirement already satisfied: pyobjc-framework-MetalKit==11.0 in /Users/manuelnovolopes/opt/anaconda3/lib/python3.9/site-packages (from pyobjc->keyboard) (11.0)\n",
      "Requirement already satisfied: pyobjc-framework-MetalPerformanceShaders==11.0 in /Users/manuelnovolopes/opt/anaconda3/lib/python3.9/site-packages (from pyobjc->keyboard) (11.0)\n",
      "Requirement already satisfied: pyobjc-framework-MetalPerformanceShadersGraph==11.0 in /Users/manuelnovolopes/opt/anaconda3/lib/python3.9/site-packages (from pyobjc->keyboard) (11.0)\n",
      "Requirement already satisfied: pyobjc-framework-MetricKit==11.0 in /Users/manuelnovolopes/opt/anaconda3/lib/python3.9/site-packages (from pyobjc->keyboard) (11.0)\n",
      "Requirement already satisfied: pyobjc-framework-MLCompute==11.0 in /Users/manuelnovolopes/opt/anaconda3/lib/python3.9/site-packages (from pyobjc->keyboard) (11.0)\n",
      "Requirement already satisfied: pyobjc-framework-ModelIO==11.0 in /Users/manuelnovolopes/opt/anaconda3/lib/python3.9/site-packages (from pyobjc->keyboard) (11.0)\n",
      "Requirement already satisfied: pyobjc-framework-MultipeerConnectivity==11.0 in /Users/manuelnovolopes/opt/anaconda3/lib/python3.9/site-packages (from pyobjc->keyboard) (11.0)\n",
      "Requirement already satisfied: pyobjc-framework-NaturalLanguage==11.0 in /Users/manuelnovolopes/opt/anaconda3/lib/python3.9/site-packages (from pyobjc->keyboard) (11.0)\n",
      "Requirement already satisfied: pyobjc-framework-NetFS==11.0 in /Users/manuelnovolopes/opt/anaconda3/lib/python3.9/site-packages (from pyobjc->keyboard) (11.0)\n",
      "Requirement already satisfied: pyobjc-framework-Network==11.0 in /Users/manuelnovolopes/opt/anaconda3/lib/python3.9/site-packages (from pyobjc->keyboard) (11.0)\n",
      "Requirement already satisfied: pyobjc-framework-NetworkExtension==11.0 in /Users/manuelnovolopes/opt/anaconda3/lib/python3.9/site-packages (from pyobjc->keyboard) (11.0)\n",
      "Requirement already satisfied: pyobjc-framework-NotificationCenter==11.0 in /Users/manuelnovolopes/opt/anaconda3/lib/python3.9/site-packages (from pyobjc->keyboard) (11.0)\n",
      "Requirement already satisfied: pyobjc-framework-OpenDirectory==11.0 in /Users/manuelnovolopes/opt/anaconda3/lib/python3.9/site-packages (from pyobjc->keyboard) (11.0)\n",
      "Requirement already satisfied: pyobjc-framework-OSAKit==11.0 in /Users/manuelnovolopes/opt/anaconda3/lib/python3.9/site-packages (from pyobjc->keyboard) (11.0)\n",
      "Requirement already satisfied: pyobjc-framework-OSLog==11.0 in /Users/manuelnovolopes/opt/anaconda3/lib/python3.9/site-packages (from pyobjc->keyboard) (11.0)\n",
      "Requirement already satisfied: pyobjc-framework-PassKit==11.0 in /Users/manuelnovolopes/opt/anaconda3/lib/python3.9/site-packages (from pyobjc->keyboard) (11.0)\n",
      "Requirement already satisfied: pyobjc-framework-PencilKit==11.0 in /Users/manuelnovolopes/opt/anaconda3/lib/python3.9/site-packages (from pyobjc->keyboard) (11.0)\n",
      "Requirement already satisfied: pyobjc-framework-PHASE==11.0 in /Users/manuelnovolopes/opt/anaconda3/lib/python3.9/site-packages (from pyobjc->keyboard) (11.0)\n",
      "Requirement already satisfied: pyobjc-framework-Photos==11.0 in /Users/manuelnovolopes/opt/anaconda3/lib/python3.9/site-packages (from pyobjc->keyboard) (11.0)\n",
      "Requirement already satisfied: pyobjc-framework-PhotosUI==11.0 in /Users/manuelnovolopes/opt/anaconda3/lib/python3.9/site-packages (from pyobjc->keyboard) (11.0)\n",
      "Requirement already satisfied: pyobjc-framework-PreferencePanes==11.0 in /Users/manuelnovolopes/opt/anaconda3/lib/python3.9/site-packages (from pyobjc->keyboard) (11.0)\n",
      "Requirement already satisfied: pyobjc-framework-PushKit==11.0 in /Users/manuelnovolopes/opt/anaconda3/lib/python3.9/site-packages (from pyobjc->keyboard) (11.0)\n",
      "Requirement already satisfied: pyobjc-framework-Quartz==11.0 in /Users/manuelnovolopes/opt/anaconda3/lib/python3.9/site-packages (from pyobjc->keyboard) (11.0)\n",
      "Requirement already satisfied: pyobjc-framework-QuickLookThumbnailing==11.0 in /Users/manuelnovolopes/opt/anaconda3/lib/python3.9/site-packages (from pyobjc->keyboard) (11.0)\n",
      "Requirement already satisfied: pyobjc-framework-ReplayKit==11.0 in /Users/manuelnovolopes/opt/anaconda3/lib/python3.9/site-packages (from pyobjc->keyboard) (11.0)\n",
      "Requirement already satisfied: pyobjc-framework-SafetyKit==11.0 in /Users/manuelnovolopes/opt/anaconda3/lib/python3.9/site-packages (from pyobjc->keyboard) (11.0)\n",
      "Requirement already satisfied: pyobjc-framework-SafariServices==11.0 in /Users/manuelnovolopes/opt/anaconda3/lib/python3.9/site-packages (from pyobjc->keyboard) (11.0)\n",
      "Requirement already satisfied: pyobjc-framework-ScreenSaver==11.0 in /Users/manuelnovolopes/opt/anaconda3/lib/python3.9/site-packages (from pyobjc->keyboard) (11.0)\n",
      "Requirement already satisfied: pyobjc-framework-ScreenTime==11.0 in /Users/manuelnovolopes/opt/anaconda3/lib/python3.9/site-packages (from pyobjc->keyboard) (11.0)\n",
      "Requirement already satisfied: pyobjc-framework-ScriptingBridge==11.0 in /Users/manuelnovolopes/opt/anaconda3/lib/python3.9/site-packages (from pyobjc->keyboard) (11.0)\n",
      "Requirement already satisfied: pyobjc-framework-Security==11.0 in /Users/manuelnovolopes/opt/anaconda3/lib/python3.9/site-packages (from pyobjc->keyboard) (11.0)\n",
      "Requirement already satisfied: pyobjc-framework-SecurityFoundation==11.0 in /Users/manuelnovolopes/opt/anaconda3/lib/python3.9/site-packages (from pyobjc->keyboard) (11.0)\n",
      "Requirement already satisfied: pyobjc-framework-SecurityInterface==11.0 in /Users/manuelnovolopes/opt/anaconda3/lib/python3.9/site-packages (from pyobjc->keyboard) (11.0)\n",
      "Requirement already satisfied: pyobjc-framework-SearchKit==11.0 in /Users/manuelnovolopes/opt/anaconda3/lib/python3.9/site-packages (from pyobjc->keyboard) (11.0)\n",
      "Requirement already satisfied: pyobjc-framework-ServiceManagement==11.0 in /Users/manuelnovolopes/opt/anaconda3/lib/python3.9/site-packages (from pyobjc->keyboard) (11.0)\n",
      "Requirement already satisfied: pyobjc-framework-ShazamKit==11.0 in /Users/manuelnovolopes/opt/anaconda3/lib/python3.9/site-packages (from pyobjc->keyboard) (11.0)\n",
      "Requirement already satisfied: pyobjc-framework-Social==11.0 in /Users/manuelnovolopes/opt/anaconda3/lib/python3.9/site-packages (from pyobjc->keyboard) (11.0)\n",
      "Requirement already satisfied: pyobjc-framework-Speech==11.0 in /Users/manuelnovolopes/opt/anaconda3/lib/python3.9/site-packages (from pyobjc->keyboard) (11.0)\n",
      "Requirement already satisfied: pyobjc-framework-SpriteKit==11.0 in /Users/manuelnovolopes/opt/anaconda3/lib/python3.9/site-packages (from pyobjc->keyboard) (11.0)\n",
      "Requirement already satisfied: pyobjc-framework-StoreKit==11.0 in /Users/manuelnovolopes/opt/anaconda3/lib/python3.9/site-packages (from pyobjc->keyboard) (11.0)\n",
      "Requirement already satisfied: pyobjc-framework-SyncServices==11.0 in /Users/manuelnovolopes/opt/anaconda3/lib/python3.9/site-packages (from pyobjc->keyboard) (11.0)\n",
      "Requirement already satisfied: pyobjc-framework-SystemConfiguration==11.0 in /Users/manuelnovolopes/opt/anaconda3/lib/python3.9/site-packages (from pyobjc->keyboard) (11.0)\n",
      "Requirement already satisfied: pyobjc-framework-WebKit==11.0 in /Users/manuelnovolopes/opt/anaconda3/lib/python3.9/site-packages (from pyobjc->keyboard) (11.0)\n",
      "Requirement already satisfied: pyobjc-framework-GameKit==11.0 in /Users/manuelnovolopes/opt/anaconda3/lib/python3.9/site-packages (from pyobjc->keyboard) (11.0)\n",
      "Requirement already satisfied: pyobjc-framework-GameplayKit==11.0 in /Users/manuelnovolopes/opt/anaconda3/lib/python3.9/site-packages (from pyobjc->keyboard) (11.0)\n",
      "Requirement already satisfied: pyobjc-framework-SceneKit==11.0 in /Users/manuelnovolopes/opt/anaconda3/lib/python3.9/site-packages (from pyobjc->keyboard) (11.0)\n",
      "Requirement already satisfied: pyobjc-framework-SensitiveContentAnalysis==11.0 in /Users/manuelnovolopes/opt/anaconda3/lib/python3.9/site-packages (from pyobjc->keyboard) (11.0)\n",
      "Requirement already satisfied: pyobjc-framework-SharedWithYouCore==11.0 in /Users/manuelnovolopes/opt/anaconda3/lib/python3.9/site-packages (from pyobjc->keyboard) (11.0)\n",
      "Requirement already satisfied: pyobjc-framework-SharedWithYou==11.0 in /Users/manuelnovolopes/opt/anaconda3/lib/python3.9/site-packages (from pyobjc->keyboard) (11.0)\n",
      "Requirement already satisfied: pyobjc-framework-SoundAnalysis==11.0 in /Users/manuelnovolopes/opt/anaconda3/lib/python3.9/site-packages (from pyobjc->keyboard) (11.0)\n",
      "Requirement already satisfied: pyobjc-framework-ScreenCaptureKit==11.0 in /Users/manuelnovolopes/opt/anaconda3/lib/python3.9/site-packages (from pyobjc->keyboard) (11.0)\n",
      "Requirement already satisfied: pyobjc-framework-Symbols==11.0 in /Users/manuelnovolopes/opt/anaconda3/lib/python3.9/site-packages (from pyobjc->keyboard) (11.0)\n",
      "Requirement already satisfied: pyobjc-framework-SystemExtensions==11.0 in /Users/manuelnovolopes/opt/anaconda3/lib/python3.9/site-packages (from pyobjc->keyboard) (11.0)\n",
      "Requirement already satisfied: pyobjc-framework-ThreadNetwork==11.0 in /Users/manuelnovolopes/opt/anaconda3/lib/python3.9/site-packages (from pyobjc->keyboard) (11.0)\n",
      "Requirement already satisfied: pyobjc-framework-UniformTypeIdentifiers==11.0 in /Users/manuelnovolopes/opt/anaconda3/lib/python3.9/site-packages (from pyobjc->keyboard) (11.0)\n",
      "Requirement already satisfied: pyobjc-framework-UserNotifications==11.0 in /Users/manuelnovolopes/opt/anaconda3/lib/python3.9/site-packages (from pyobjc->keyboard) (11.0)\n",
      "Requirement already satisfied: pyobjc-framework-UserNotificationsUI==11.0 in /Users/manuelnovolopes/opt/anaconda3/lib/python3.9/site-packages (from pyobjc->keyboard) (11.0)\n",
      "Requirement already satisfied: pyobjc-framework-VideoSubscriberAccount==11.0 in /Users/manuelnovolopes/opt/anaconda3/lib/python3.9/site-packages (from pyobjc->keyboard) (11.0)\n",
      "Requirement already satisfied: pyobjc-framework-VideoToolbox==11.0 in /Users/manuelnovolopes/opt/anaconda3/lib/python3.9/site-packages (from pyobjc->keyboard) (11.0)\n",
      "Requirement already satisfied: pyobjc-framework-Virtualization==11.0 in /Users/manuelnovolopes/opt/anaconda3/lib/python3.9/site-packages (from pyobjc->keyboard) (11.0)\n",
      "Requirement already satisfied: pyobjc-framework-Vision==11.0 in /Users/manuelnovolopes/opt/anaconda3/lib/python3.9/site-packages (from pyobjc->keyboard) (11.0)\n",
      "Requirement already satisfied: pyobjc-framework-iTunesLibrary==11.0 in /Users/manuelnovolopes/opt/anaconda3/lib/python3.9/site-packages (from pyobjc->keyboard) (11.0)\n",
      "Note: you may need to restart the kernel to use updated packages.\n"
     ]
    }
   ],
   "source": [
    "#%pip install -r requirements.txt\n",
    "%pip install keyboard"
   ]
  },
  {
   "cell_type": "code",
   "execution_count": 2,
   "id": "0dbd81fc-3ed3-4ecc-92da-ea4a86bb6261",
   "metadata": {},
   "outputs": [],
   "source": [
    "%load_ext autoreload\n",
    "%autoreload 2\n",
    "\n",
    "import env\n",
    "import agent\n",
    "import reward\n",
    "import simulate"
   ]
  },
  {
   "cell_type": "markdown",
   "id": "aca2c8db-cf8d-46d0-b8bb-ef4dba40009f",
   "metadata": {},
   "source": [
    "## 1. Training"
   ]
  },
  {
   "cell_type": "markdown",
   "id": "28d6befc-2f22-4111-8b9b-0c5cd0bd9ea2",
   "metadata": {},
   "source": [
    "vtrained_agent, all_rewards = simulate.train('config_oneagement_bigwalls.json')"
   ]
  },
  {
   "cell_type": "code",
   "execution_count": null,
   "id": "ed0d87c7-e778-42ef-993d-5d66eb5f9507",
   "metadata": {},
   "outputs": [
    {
     "name": "stdout",
     "output_type": "stream",
     "text": [
      "Warning: Could only place 0 dynamic obstacles instead of 3 due to space constraints\n"
     ]
    },
    {
     "name": "stderr",
     "output_type": "stream",
     "text": [
      "2025-03-20 10:05:18.079 python[63286:1072690] +[IMKClient subclass]: chose IMKClient_Modern\n",
      "2025-03-20 10:05:18.079 python[63286:1072690] +[IMKInputSession subclass]: chose IMKInputSession_Modern\n"
     ]
    },
    {
     "name": "stdout",
     "output_type": "stream",
     "text": [
      "Absolute position \n",
      "\n",
      "Position: [0. 0.]\n",
      "Orientation: 2\n",
      "Goal Position: [9. 9.]\n",
      "Distance to Goal: 12.73\n",
      "Radar - Front Distance: 2.0, Type: 1.0 - Wall \n",
      "Radar - Right Distance: 1.0, Type: 1.0 - Wall \n",
      "Radar - Left Distance: 1.0, Type: 1.0 - Wall\n",
      "\n",
      "==================================================\n",
      "AGENT 0 STATUS:\n",
      "Position: [0. 0.], Facing: DOWN\n",
      "Goal: [9. 9.], Distance to goal: 12.73\n",
      "\n",
      "RADAR READINGS (relative to agent orientation):\n",
      "  FRONT: Wall (dist: 2.0)\n",
      "  RIGHT: Wall (dist: 1.0)\n",
      "  LEFT:  Wall (dist: 1.0)\n",
      "\n",
      "CONTROLS (RELATIVE TO AGENT ORIENTATION):\n",
      "  [Z] Forward     [S] Backward\n",
      "  [Q] Left        [D] Right\n",
      "  [V] Rotate R    [B] Rotate L\n",
      "  [X] Stay Still\n"
     ]
    },
    {
     "name": "stdin",
     "output_type": "stream",
     "text": [
      "\n",
      "Enter command:  x\n"
     ]
    },
    {
     "name": "stdout",
     "output_type": "stream",
     "text": [
      "Command: STAY → Action: STAY\n",
      "Episode 1, Step 1, Reward: -0.20, Evacuated: 0, Deactivated: 0Absolute position \n",
      "\n",
      "Position: [0. 0.]\n",
      "Orientation: 2\n",
      "Goal Position: [9. 9.]\n",
      "Distance to Goal: 12.73\n",
      "Radar - Front Distance: 2.0, Type: 1.0 - Wall \n",
      "Radar - Right Distance: 1.0, Type: 1.0 - Wall \n",
      "Radar - Left Distance: 1.0, Type: 1.0 - Wall\n",
      "\n",
      "==================================================\n",
      "AGENT 0 STATUS:\n",
      "Position: [0. 0.], Facing: DOWN\n",
      "Goal: [9. 9.], Distance to goal: 12.73\n",
      "\n",
      "RADAR READINGS (relative to agent orientation):\n",
      "  FRONT: Wall (dist: 2.0)\n",
      "  RIGHT: Wall (dist: 1.0)\n",
      "  LEFT:  Wall (dist: 1.0)\n",
      "\n",
      "CONTROLS (RELATIVE TO AGENT ORIENTATION):\n",
      "  [Z] Forward     [S] Backward\n",
      "  [Q] Left        [D] Right\n",
      "  [V] Rotate R    [B] Rotate L\n",
      "  [X] Stay Still\n"
     ]
    },
    {
     "name": "stdin",
     "output_type": "stream",
     "text": [
      "\n",
      "Enter command:  x\n"
     ]
    },
    {
     "name": "stdout",
     "output_type": "stream",
     "text": [
      "Command: STAY → Action: STAY\n",
      "Episode 1, Step 2, Reward: -0.40, Evacuated: 0, Deactivated: 0Absolute position \n",
      "\n",
      "Position: [0. 0.]\n",
      "Orientation: 2\n",
      "Goal Position: [9. 9.]\n",
      "Distance to Goal: 12.73\n",
      "Radar - Front Distance: 2.0, Type: 1.0 - Wall \n",
      "Radar - Right Distance: 1.0, Type: 1.0 - Wall \n",
      "Radar - Left Distance: 1.0, Type: 1.0 - Wall\n",
      "\n",
      "==================================================\n",
      "AGENT 0 STATUS:\n",
      "Position: [0. 0.], Facing: DOWN\n",
      "Goal: [9. 9.], Distance to goal: 12.73\n",
      "\n",
      "RADAR READINGS (relative to agent orientation):\n",
      "  FRONT: Wall (dist: 2.0)\n",
      "  RIGHT: Wall (dist: 1.0)\n",
      "  LEFT:  Wall (dist: 1.0)\n",
      "\n",
      "CONTROLS (RELATIVE TO AGENT ORIENTATION):\n",
      "  [Z] Forward     [S] Backward\n",
      "  [Q] Left        [D] Right\n",
      "  [V] Rotate R    [B] Rotate L\n",
      "  [X] Stay Still\n"
     ]
    },
    {
     "name": "stdin",
     "output_type": "stream",
     "text": [
      "\n",
      "Enter command:  x\n"
     ]
    },
    {
     "name": "stdout",
     "output_type": "stream",
     "text": [
      "Command: STAY → Action: STAY\n",
      "Episode 1, Step 3, Reward: -0.60, Evacuated: 0, Deactivated: 0Absolute position \n",
      "\n",
      "Position: [0. 0.]\n",
      "Orientation: 2\n",
      "Goal Position: [9. 9.]\n",
      "Distance to Goal: 12.73\n",
      "Radar - Front Distance: 2.0, Type: 1.0 - Wall \n",
      "Radar - Right Distance: 1.0, Type: 1.0 - Wall \n",
      "Radar - Left Distance: 1.0, Type: 1.0 - Wall\n",
      "\n",
      "==================================================\n",
      "AGENT 0 STATUS:\n",
      "Position: [0. 0.], Facing: DOWN\n",
      "Goal: [9. 9.], Distance to goal: 12.73\n",
      "\n",
      "RADAR READINGS (relative to agent orientation):\n",
      "  FRONT: Wall (dist: 2.0)\n",
      "  RIGHT: Wall (dist: 1.0)\n",
      "  LEFT:  Wall (dist: 1.0)\n",
      "\n",
      "CONTROLS (RELATIVE TO AGENT ORIENTATION):\n",
      "  [Z] Forward     [S] Backward\n",
      "  [Q] Left        [D] Right\n",
      "  [V] Rotate R    [B] Rotate L\n",
      "  [X] Stay Still\n"
     ]
    },
    {
     "name": "stdin",
     "output_type": "stream",
     "text": [
      "\n",
      "Enter command:  v\n"
     ]
    },
    {
     "name": "stdout",
     "output_type": "stream",
     "text": [
      "Command: ROTATE_RIGHT → Action: ROTATE RIGHT\n",
      "Episode 1, Step 4, Reward: -0.80, Evacuated: 0, Deactivated: 0Absolute position \n",
      "\n",
      "Position: [0. 0.]\n",
      "Orientation: 3\n",
      "Goal Position: [9. 9.]\n",
      "Distance to Goal: 12.73\n",
      "Radar - Front Distance: 1.0, Type: 1.0 - Wall \n",
      "Radar - Right Distance: 1.0, Type: 1.0 - Wall \n",
      "Radar - Left Distance: 1.0, Type: 0.0 - Clear\n",
      "\n",
      "==================================================\n",
      "AGENT 0 STATUS:\n",
      "Position: [0. 0.], Facing: LEFT\n",
      "Goal: [9. 9.], Distance to goal: 12.73\n",
      "\n",
      "RADAR READINGS (relative to agent orientation):\n",
      "  FRONT: Wall (dist: 1.0)\n",
      "  RIGHT: Wall (dist: 1.0)\n",
      "  LEFT:  Clear (dist: 1.0)\n",
      "\n",
      "CONTROLS (RELATIVE TO AGENT ORIENTATION):\n",
      "  [Z] Forward     [S] Backward\n",
      "  [Q] Left        [D] Right\n",
      "  [V] Rotate R    [B] Rotate L\n",
      "  [X] Stay Still\n"
     ]
    },
    {
     "name": "stdin",
     "output_type": "stream",
     "text": [
      "\n",
      "Enter command:  v\n"
     ]
    },
    {
     "name": "stdout",
     "output_type": "stream",
     "text": [
      "Command: ROTATE_RIGHT → Action: ROTATE RIGHT\n",
      "Episode 1, Step 5, Reward: -1.00, Evacuated: 0, Deactivated: 0Absolute position \n",
      "\n",
      "Position: [0. 0.]\n",
      "Orientation: 0\n",
      "Goal Position: [9. 9.]\n",
      "Distance to Goal: 12.73\n",
      "Radar - Front Distance: 1.0, Type: 1.0 - Wall \n",
      "Radar - Right Distance: 1.0, Type: 1.0 - Wall \n",
      "Radar - Left Distance: 1.0, Type: 1.0 - Wall\n",
      "\n",
      "==================================================\n",
      "AGENT 0 STATUS:\n",
      "Position: [0. 0.], Facing: UP\n",
      "Goal: [9. 9.], Distance to goal: 12.73\n",
      "\n",
      "RADAR READINGS (relative to agent orientation):\n",
      "  FRONT: Wall (dist: 1.0)\n",
      "  RIGHT: Wall (dist: 1.0)\n",
      "  LEFT:  Wall (dist: 1.0)\n",
      "\n",
      "CONTROLS (RELATIVE TO AGENT ORIENTATION):\n",
      "  [Z] Forward     [S] Backward\n",
      "  [Q] Left        [D] Right\n",
      "  [V] Rotate R    [B] Rotate L\n",
      "  [X] Stay Still\n"
     ]
    },
    {
     "name": "stdin",
     "output_type": "stream",
     "text": [
      "\n",
      "Enter command:  v\n"
     ]
    },
    {
     "name": "stdout",
     "output_type": "stream",
     "text": [
      "Command: ROTATE_RIGHT → Action: ROTATE RIGHT\n",
      "Episode 1, Step 6, Reward: -1.20, Evacuated: 0, Deactivated: 0Absolute position \n",
      "\n",
      "Position: [0. 0.]\n",
      "Orientation: 1\n",
      "Goal Position: [9. 9.]\n",
      "Distance to Goal: 12.73\n",
      "Radar - Front Distance: 1.0, Type: 1.0 - Wall \n",
      "Radar - Right Distance: 1.0, Type: 0.0 - Clear \n",
      "Radar - Left Distance: 1.0, Type: 1.0 - Wall\n",
      "\n",
      "==================================================\n",
      "AGENT 0 STATUS:\n",
      "Position: [0. 0.], Facing: RIGHT\n",
      "Goal: [9. 9.], Distance to goal: 12.73\n",
      "\n",
      "RADAR READINGS (relative to agent orientation):\n",
      "  FRONT: Wall (dist: 1.0)\n",
      "  RIGHT: Clear (dist: 1.0)\n",
      "  LEFT:  Wall (dist: 1.0)\n",
      "\n",
      "CONTROLS (RELATIVE TO AGENT ORIENTATION):\n",
      "  [Z] Forward     [S] Backward\n",
      "  [Q] Left        [D] Right\n",
      "  [V] Rotate R    [B] Rotate L\n",
      "  [X] Stay Still\n"
     ]
    },
    {
     "name": "stdin",
     "output_type": "stream",
     "text": [
      "\n",
      "Enter command:  v\n"
     ]
    },
    {
     "name": "stdout",
     "output_type": "stream",
     "text": [
      "Command: ROTATE_RIGHT → Action: ROTATE RIGHT\n",
      "Episode 1, Step 7, Reward: -1.40, Evacuated: 0, Deactivated: 0Absolute position \n",
      "\n",
      "Position: [0. 0.]\n",
      "Orientation: 2\n",
      "Goal Position: [9. 9.]\n",
      "Distance to Goal: 12.73\n",
      "Radar - Front Distance: 2.0, Type: 1.0 - Wall \n",
      "Radar - Right Distance: 1.0, Type: 1.0 - Wall \n",
      "Radar - Left Distance: 1.0, Type: 1.0 - Wall\n",
      "\n",
      "==================================================\n",
      "AGENT 0 STATUS:\n",
      "Position: [0. 0.], Facing: DOWN\n",
      "Goal: [9. 9.], Distance to goal: 12.73\n",
      "\n",
      "RADAR READINGS (relative to agent orientation):\n",
      "  FRONT: Wall (dist: 2.0)\n",
      "  RIGHT: Wall (dist: 1.0)\n",
      "  LEFT:  Wall (dist: 1.0)\n",
      "\n",
      "CONTROLS (RELATIVE TO AGENT ORIENTATION):\n",
      "  [Z] Forward     [S] Backward\n",
      "  [Q] Left        [D] Right\n",
      "  [V] Rotate R    [B] Rotate L\n",
      "  [X] Stay Still\n"
     ]
    },
    {
     "name": "stdin",
     "output_type": "stream",
     "text": [
      "\n",
      "Enter command:  v\n"
     ]
    },
    {
     "name": "stdout",
     "output_type": "stream",
     "text": [
      "Command: ROTATE_RIGHT → Action: ROTATE RIGHT\n",
      "Episode 1, Step 8, Reward: -1.60, Evacuated: 0, Deactivated: 0Absolute position \n",
      "\n",
      "Position: [0. 0.]\n",
      "Orientation: 3\n",
      "Goal Position: [9. 9.]\n",
      "Distance to Goal: 12.73\n",
      "Radar - Front Distance: 1.0, Type: 1.0 - Wall \n",
      "Radar - Right Distance: 1.0, Type: 1.0 - Wall \n",
      "Radar - Left Distance: 1.0, Type: 0.0 - Clear\n",
      "\n",
      "==================================================\n",
      "AGENT 0 STATUS:\n",
      "Position: [0. 0.], Facing: LEFT\n",
      "Goal: [9. 9.], Distance to goal: 12.73\n",
      "\n",
      "RADAR READINGS (relative to agent orientation):\n",
      "  FRONT: Wall (dist: 1.0)\n",
      "  RIGHT: Wall (dist: 1.0)\n",
      "  LEFT:  Clear (dist: 1.0)\n",
      "\n",
      "CONTROLS (RELATIVE TO AGENT ORIENTATION):\n",
      "  [Z] Forward     [S] Backward\n",
      "  [Q] Left        [D] Right\n",
      "  [V] Rotate R    [B] Rotate L\n",
      "  [X] Stay Still\n"
     ]
    },
    {
     "name": "stdin",
     "output_type": "stream",
     "text": [
      "\n",
      "Enter command:  v\n"
     ]
    },
    {
     "name": "stdout",
     "output_type": "stream",
     "text": [
      "Command: ROTATE_RIGHT → Action: ROTATE RIGHT\n",
      "Episode 1, Step 9, Reward: -1.80, Evacuated: 0, Deactivated: 0Absolute position \n",
      "\n",
      "Position: [0. 0.]\n",
      "Orientation: 0\n",
      "Goal Position: [9. 9.]\n",
      "Distance to Goal: 12.73\n",
      "Radar - Front Distance: 1.0, Type: 1.0 - Wall \n",
      "Radar - Right Distance: 1.0, Type: 1.0 - Wall \n",
      "Radar - Left Distance: 1.0, Type: 1.0 - Wall\n",
      "\n",
      "==================================================\n",
      "AGENT 0 STATUS:\n",
      "Position: [0. 0.], Facing: UP\n",
      "Goal: [9. 9.], Distance to goal: 12.73\n",
      "\n",
      "RADAR READINGS (relative to agent orientation):\n",
      "  FRONT: Wall (dist: 1.0)\n",
      "  RIGHT: Wall (dist: 1.0)\n",
      "  LEFT:  Wall (dist: 1.0)\n",
      "\n",
      "CONTROLS (RELATIVE TO AGENT ORIENTATION):\n",
      "  [Z] Forward     [S] Backward\n",
      "  [Q] Left        [D] Right\n",
      "  [V] Rotate R    [B] Rotate L\n",
      "  [X] Stay Still\n"
     ]
    },
    {
     "name": "stdin",
     "output_type": "stream",
     "text": [
      "\n",
      "Enter command:  v\n"
     ]
    },
    {
     "name": "stdout",
     "output_type": "stream",
     "text": [
      "Command: ROTATE_RIGHT → Action: ROTATE RIGHT\n",
      "Episode 1, Step 10, Reward: -2.00, Evacuated: 0, Deactivated: 0Absolute position \n",
      "\n",
      "Position: [0. 0.]\n",
      "Orientation: 1\n",
      "Goal Position: [9. 9.]\n",
      "Distance to Goal: 12.73\n",
      "Radar - Front Distance: 1.0, Type: 1.0 - Wall \n",
      "Radar - Right Distance: 1.0, Type: 0.0 - Clear \n",
      "Radar - Left Distance: 1.0, Type: 1.0 - Wall\n",
      "\n",
      "==================================================\n",
      "AGENT 0 STATUS:\n",
      "Position: [0. 0.], Facing: RIGHT\n",
      "Goal: [9. 9.], Distance to goal: 12.73\n",
      "\n",
      "RADAR READINGS (relative to agent orientation):\n",
      "  FRONT: Wall (dist: 1.0)\n",
      "  RIGHT: Clear (dist: 1.0)\n",
      "  LEFT:  Wall (dist: 1.0)\n",
      "\n",
      "CONTROLS (RELATIVE TO AGENT ORIENTATION):\n",
      "  [Z] Forward     [S] Backward\n",
      "  [Q] Left        [D] Right\n",
      "  [V] Rotate R    [B] Rotate L\n",
      "  [X] Stay Still\n"
     ]
    },
    {
     "name": "stdin",
     "output_type": "stream",
     "text": [
      "\n",
      "Enter command:  v\n"
     ]
    },
    {
     "name": "stdout",
     "output_type": "stream",
     "text": [
      "Command: ROTATE_RIGHT → Action: ROTATE RIGHT\n",
      "Episode 1, Step 11, Reward: -2.20, Evacuated: 0, Deactivated: 0Absolute position \n",
      "\n",
      "Position: [0. 0.]\n",
      "Orientation: 2\n",
      "Goal Position: [9. 9.]\n",
      "Distance to Goal: 12.73\n",
      "Radar - Front Distance: 2.0, Type: 1.0 - Wall \n",
      "Radar - Right Distance: 1.0, Type: 1.0 - Wall \n",
      "Radar - Left Distance: 1.0, Type: 1.0 - Wall\n",
      "\n",
      "==================================================\n",
      "AGENT 0 STATUS:\n",
      "Position: [0. 0.], Facing: DOWN\n",
      "Goal: [9. 9.], Distance to goal: 12.73\n",
      "\n",
      "RADAR READINGS (relative to agent orientation):\n",
      "  FRONT: Wall (dist: 2.0)\n",
      "  RIGHT: Wall (dist: 1.0)\n",
      "  LEFT:  Wall (dist: 1.0)\n",
      "\n",
      "CONTROLS (RELATIVE TO AGENT ORIENTATION):\n",
      "  [Z] Forward     [S] Backward\n",
      "  [Q] Left        [D] Right\n",
      "  [V] Rotate R    [B] Rotate L\n",
      "  [X] Stay Still\n"
     ]
    }
   ],
   "source": [
    "trained_agent, all_rewards = simulate.train('config_oneagement_bigwalls.json')"
   ]
  },
  {
   "cell_type": "code",
   "execution_count": null,
   "id": "ee8e60bb",
   "metadata": {},
   "outputs": [],
   "source": [
    "# Plot the cumulated rewards per episode\n",
    "simulate.plot_cumulated_rewards(all_rewards)"
   ]
  },
  {
   "cell_type": "markdown",
   "id": "c2ac3652-834a-4943-a2f6-96dc395a21ae",
   "metadata": {},
   "source": [
    "## 2. Evaluation"
   ]
  },
  {
   "cell_type": "code",
   "execution_count": null,
   "id": "16713487-5971-4789-bc72-08bc1fb2dc63",
   "metadata": {},
   "outputs": [],
   "source": [
    "eval_config_paths = [f\"./eval_configs/config_{i}.json\" for i in range(1, 11)]"
   ]
  },
  {
   "cell_type": "code",
   "execution_count": null,
   "id": "8f7ddc0a-19ce-4e67-996f-a19432201b6f",
   "metadata": {
    "scrolled": true
   },
   "outputs": [],
   "source": [
    "all_results = simulate.evaluate(eval_config_paths, trained_agent)"
   ]
  },
  {
   "cell_type": "code",
   "execution_count": null,
   "id": "7e43948f",
   "metadata": {},
   "outputs": [],
   "source": [
    "display(all_results)"
   ]
  },
  {
   "cell_type": "code",
   "execution_count": null,
   "id": "e82856a0",
   "metadata": {},
   "outputs": [],
   "source": [
    "# Calculate averages for each configuration\n",
    "averages = all_results.groupby('config_path').mean().reset_index().drop(columns=['episode'])\n",
    "averages = averages.rename(columns={\n",
    "    'steps': 'avg_steps',\n",
    "    'reward': 'avg_reward',\n",
    "    'evacuated': 'avg_evacuated',\n",
    "    'deactivated': 'avg_deactivated'})\n",
    "\n",
    "display(averages)\n",
    "averages.to_csv('averages.csv', index=False)"
   ]
  }
 ],
 "metadata": {
  "kernelspec": {
   "display_name": "Python 3 (ipykernel)",
   "language": "python",
   "name": "python3"
  },
  "language_info": {
   "codemirror_mode": {
    "name": "ipython",
    "version": 3
   },
   "file_extension": ".py",
   "mimetype": "text/x-python",
   "name": "python",
   "nbconvert_exporter": "python",
   "pygments_lexer": "ipython3",
   "version": "3.9.12"
  },
  "vscode": {
   "interpreter": {
    "hash": "9240d949b7e875368571ba59acc67192d2efbcc4561b3c6f94c83d7858e18732"
   }
  }
 },
 "nbformat": 4,
 "nbformat_minor": 5
}
