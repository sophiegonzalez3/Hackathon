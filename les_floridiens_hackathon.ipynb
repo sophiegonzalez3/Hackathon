{
 "cells": [
  {
   "cell_type": "markdown",
   "id": "d271c0b8",
   "metadata": {},
   "source": [
    "# Hackathon : Reinforcement Learning for Drone Navigation"
   ]
  },
  {
   "cell_type": "markdown",
   "id": "0b59b4fd",
   "metadata": {},
   "source": [
    "- Team name: Les Floridiens\n",
    "- Team members names:\n",
    "    - Loïc GIRALDI\n",
    "    - Carla BILLETER\n",
    "    - Manuel NOVO-LOPES\n",
    "    - Sophie GONZALEZ"
   ]
  },
  {
   "cell_type": "markdown",
   "id": "fb5f6162-b5c3-462f-8c79-1fe99d16f175",
   "metadata": {},
   "source": [
    "## 0. Prerequisites"
   ]
  },
  {
   "cell_type": "code",
   "execution_count": 2,
   "id": "68618ae7-0858-4006-be28-cd1451979861",
   "metadata": {
    "scrolled": true
   },
   "outputs": [
    {
     "name": "stdout",
     "output_type": "stream",
     "text": [
      "Note: you may need to restart the kernel to use updated packages.\n"
     ]
    }
   ],
   "source": [
    "%pip -q install -r requirements.txt"
   ]
  },
  {
   "cell_type": "code",
   "execution_count": 27,
   "id": "0dbd81fc-3ed3-4ecc-92da-ea4a86bb6261",
   "metadata": {},
   "outputs": [
    {
     "name": "stdout",
     "output_type": "stream",
     "text": [
      "The autoreload extension is already loaded. To reload it, use:\n",
      "  %reload_ext autoreload\n"
     ]
    }
   ],
   "source": [
    "%load_ext autoreload\n",
    "%autoreload 2\n",
    "%matplotlib inline\n",
    "\n",
    "import matplotlib.pyplot as plt\n",
    "import torch\n",
    "from torch import optim\n",
    "\n",
    "from agent import MyAgent\n",
    "from behaviorcloning import clone_behavior\n",
    "from models import DRQNetwork, MixingNetwork\n",
    "import simulate\n",
    "from transferlearning import train"
   ]
  },
  {
   "cell_type": "markdown",
   "id": "aca2c8db-cf8d-46d0-b8bb-ef4dba40009f",
   "metadata": {},
   "source": [
    "## 1. Training"
   ]
  },
  {
   "cell_type": "code",
   "execution_count": 5,
   "id": "9e222ab3-dba0-47b4-b53c-3bd958388031",
   "metadata": {},
   "outputs": [],
   "source": [
    "device = torch.device(\"cuda\" if torch.cuda.is_available() else \"cpu\")\n",
    "\n",
    "cloned_policy_path = \"./cloned_policy\"\n",
    "pretrained_mixer_path = \"./pretrained_mixer\"\n",
    "fine_tuned_policy_path = \"./fine_tuned_policy\"\n",
    "fine_tuned_mixer_path = \"./fine_tuned_mixer\""
   ]
  },
  {
   "cell_type": "markdown",
   "id": "1a610d42-04b7-4215-9a5e-0c48771583e2",
   "metadata": {},
   "source": [
    "## 1.1 Behavior cloning"
   ]
  },
  {
   "cell_type": "code",
   "execution_count": 6,
   "id": "dc2e38d6-0cbb-4c24-90ae-786af7df8b6b",
   "metadata": {},
   "outputs": [
    {
     "name": "stdout",
     "output_type": "stream",
     "text": [
      "episode=0, loss=1.949580430984497\n",
      "Warning: Could only place 0 dynamic obstacles instead of 3 due to space constraints\n",
      "Warning: Could only place 0 dynamic obstacles instead of 1 due to space constraints\n",
      "episode=20, loss=1.6959577798843384\n",
      "Warning: Could only place 0 dynamic obstacles instead of 3 due to space constraints\n",
      "Warning: Could only place 0 dynamic obstacles instead of 1 due to space constraints\n",
      "Warning: Could only place 0 dynamic obstacles instead of 1 due to space constraints\n",
      "Warning: Could only place 0 dynamic obstacles instead of 4 due to space constraints\n",
      "Warning: Could only place 0 dynamic obstacles instead of 2 due to space constraints\n",
      "Warning: Could only place 0 dynamic obstacles instead of 1 due to space constraints\n",
      "episode=40, loss=1.1145846843719482\n",
      "Warning: Could only place 0 dynamic obstacles instead of 4 due to space constraints\n",
      "Warning: Could only place 0 dynamic obstacles instead of 2 due to space constraints\n",
      "Warning: Could only place 0 dynamic obstacles instead of 3 due to space constraints\n",
      "Warning: Could only place 0 dynamic obstacles instead of 2 due to space constraints\n",
      "Warning: Could only place 0 dynamic obstacles instead of 2 due to space constraints\n",
      "episode=60, loss=1.082749605178833\n",
      "Warning: Could only place 0 dynamic obstacles instead of 4 due to space constraints\n",
      "Warning: Could only place 0 dynamic obstacles instead of 2 due to space constraints\n",
      "Warning: Could only place 0 dynamic obstacles instead of 4 due to space constraints\n",
      "Warning: Could only place 0 dynamic obstacles instead of 3 due to space constraints\n",
      "Warning: Could only place 0 dynamic obstacles instead of 3 due to space constraints\n",
      "episode=80, loss=1.1659493446350098\n",
      "Warning: Could only place 0 dynamic obstacles instead of 2 due to space constraints\n",
      "episode=100, loss=1.095371961593628\n",
      "Warning: Could only place 0 dynamic obstacles instead of 3 due to space constraints\n",
      "Warning: Could only place 0 dynamic obstacles instead of 4 due to space constraints\n",
      "Interrupted\n"
     ]
    }
   ],
   "source": [
    "policy_net = DRQNetwork(\n",
    "    state_size=42,\n",
    "    action_size=7,\n",
    "    hidden_size=512,\n",
    "    num_recurrent_layers=2,\n",
    ").to(device)\n",
    "\n",
    "optimizer = optim.AdamW(\n",
    "    policy_net.parameters(),\n",
    "    lr=1e-4,\n",
    "    weight_decay=1e-2\n",
    ")\n",
    "\n",
    "losses = clone_behavior(policy_net, optimizer, device, num_episodes=3000)\n",
    "\n",
    "policy_net.save(cloned_policy_path)"
   ]
  },
  {
   "cell_type": "code",
   "execution_count": null,
   "id": "aa34aa4c-0eab-4db9-9b6b-3fe1f714190c",
   "metadata": {
    "scrolled": true
   },
   "outputs": [],
   "source": [
    "fig, ax = plt.subplots()\n",
    "ax.plot(losses)\n",
    "ax.set_xlabel(\"Episodes\")\n",
    "ax.set_ylabel(\"Training loss (cross-entropy)\")"
   ]
  },
  {
   "cell_type": "markdown",
   "id": "1b734777-d5c1-4b96-b6ea-1a9cfc8d91a4",
   "metadata": {},
   "source": [
    "## 1.2 Transfer learning: Mixing layer optimization"
   ]
  },
  {
   "cell_type": "code",
   "execution_count": 19,
   "id": "3d49c035-1b13-4f2a-8264-74386c968660",
   "metadata": {},
   "outputs": [
    {
     "name": "stdout",
     "output_type": "stream",
     "text": [
      "Using QMIX agent with mixer network\n",
      "DRQNetwork(\n",
      "  (feature_layer): Sequential(\n",
      "    (0): Linear(in_features=42, out_features=512, bias=True)\n",
      "    (1): ReLU()\n",
      "    (2): Linear(in_features=512, out_features=512, bias=True)\n",
      "  )\n",
      "  (gru): GRU(512, 512, num_layers=2, batch_first=True)\n",
      "  (output_layer): Linear(in_features=512, out_features=7, bias=True)\n",
      ")\n",
      "MixingNetwork(\n",
      "  (hyper_w1): Sequential(\n",
      "    (0): Linear(in_features=949, out_features=1028, bias=True)\n",
      "    (1): ELU(alpha=1.0)\n",
      "    (2): Linear(in_features=1028, out_features=2048, bias=True)\n",
      "  )\n",
      "  (hyper_w2): Sequential(\n",
      "    (0): Linear(in_features=949, out_features=1028, bias=True)\n",
      "    (1): ELU(alpha=1.0)\n",
      "    (2): Linear(in_features=1028, out_features=512, bias=True)\n",
      "  )\n",
      "  (hyper_b1): Linear(in_features=949, out_features=512, bias=True)\n",
      "  (hyper_b2): Sequential(\n",
      "    (0): Linear(in_features=949, out_features=1028, bias=True)\n",
      "    (1): ELU(alpha=1.0)\n",
      "    (2): Linear(in_features=1028, out_features=1, bias=True)\n",
      "  )\n",
      ")\n",
      "Episode 1, Step 36, Reward: -60001.90, Evacuated: 0, Deactivated: 4, MEAN TD LOSS: 0.00e+00\n",
      "Episode 2, Step 23, Reward: -38001.68, Evacuated: 0, Deactivated: 4, MEAN TD LOSS: 0.00e+00\n",
      "Episode 3, Step 32, Reward: -52003.33, Evacuated: 0, Deactivated: 4, MEAN TD LOSS: 0.00e+00\n",
      "Episode 4, Step 48, Reward: -62003.09, Evacuated: 0, Deactivated: 4, MEAN TD LOSS: 0.00e+00\n",
      "Episode 5, Step 85, Reward: -194002.86, Evacuated: 0, Deactivated: 4, MEAN TD LOSS: 0.00e+00\n",
      "Episode 6, Step 26, Reward: -44001.18, Evacuated: 0, Deactivated: 4, MEAN TD LOSS: 0.00e+00\n",
      "Episode 7, Step 52, Reward: -147001.55, Evacuated: 0, Deactivated: 4, MEAN TD LOSS: 0.00e+00\n",
      "Episode 8, Step 39, Reward: -71001.60, Evacuated: 0, Deactivated: 4, MEAN TD LOSS: 0.00e+00\n",
      "Warning: Could only place 0 dynamic obstacles instead of 1 due to space constraints\n",
      "Episode 9, Step 62, Reward: -157001.65, Evacuated: 0, Deactivated: 4, MEAN TD LOSS: 0.00e+00\n",
      "Episode 10, Step 35, Reward: -49003.84, Evacuated: 0, Deactivated: 4, MEAN TD LOSS: 0.00e+00\n",
      "Episode 11, Step 18, Reward: -35001.25, Evacuated: 0, Deactivated: 4, MEAN TD LOSS: 0.00e+00\n",
      "Episode 12, Step 18, Reward: -28001.09, Evacuated: 0, Deactivated: 4, MEAN TD LOSS: 0.00e+00\n",
      "Episode 13, Step 71, Reward: -99003.65, Evacuated: 0, Deactivated: 4, MEAN TD LOSS: 0.00e+00\n",
      "Episode 14, Step 25, Reward: -63001.67, Evacuated: 0, Deactivated: 4, MEAN TD LOSS: 0.00e+00\n",
      "Episode 15, Step 35, Reward: -74002.58, Evacuated: 0, Deactivated: 4, MEAN TD LOSS: 0.00e+00\n",
      "Episode 16, Step 26, Reward: -27002.83, Evacuated: 0, Deactivated: 4, MEAN TD LOSS: 0.00e+00\n",
      "Episode 17, Step 190, Reward: -425004.69, Evacuated: 0, Deactivated: 4, MEAN TD LOSS: 0.00e+00\n",
      "Episode 18, Step 94, Reward: -153008.32, Evacuated: 0, Deactivated: 4, MEAN TD LOSS: 0.00e+00\n",
      "Episode 19, Step 32, Reward: -72001.26, Evacuated: 0, Deactivated: 4, MEAN TD LOSS: 0.00e+00\n",
      "Episode 20, Step 18, Reward: -26001.27, Evacuated: 0, Deactivated: 4, MEAN TD LOSS: 0.00e+00\n",
      "Episode 21, Step 63, Reward: -152004.61, Evacuated: 0, Deactivated: 4, MEAN TD LOSS: 0.00e+00\n",
      "Episode 22, Step 14, Reward: -21001.11, Evacuated: 0, Deactivated: 4, MEAN TD LOSS: 0.00e+00\n",
      "Episode 23, Step 40, Reward: -57004.30, Evacuated: 0, Deactivated: 4, MEAN TD LOSS: 0.00e+00\n",
      "Episode 24, Step 81, Reward: -119004.81, Evacuated: 0, Deactivated: 4, MEAN TD LOSS: 0.00e+00\n",
      "Episode 25, Step 29, Reward: -32003.10, Evacuated: 0, Deactivated: 4, MEAN TD LOSS: 0.00e+00\n",
      "Episode 26, Step 104, Reward: -181011.35, Evacuated: 0, Deactivated: 4, MEAN TD LOSS: 0.00e+00\n",
      "Episode 27, Step 54, Reward: -132003.63, Evacuated: 0, Deactivated: 4, MEAN TD LOSS: 0.00e+00\n",
      "Warning: Could only place 0 dynamic obstacles instead of 3 due to space constraints\n",
      "Episode 28, Step 12, Reward: -28000.33, Evacuated: 0, Deactivated: 4, MEAN TD LOSS: 0.00e+00\n",
      "Episode 29, Step 30, Reward: -74000.94, Evacuated: 0, Deactivated: 4, MEAN TD LOSS: 0.00e+00\n",
      "Episode 30, Step 76, Reward: -192003.87, Evacuated: 0, Deactivated: 4, MEAN TD LOSS: 0.00e+00\n",
      "Episode 31, Step 52, Reward: -114001.59, Evacuated: 0, Deactivated: 4, MEAN TD LOSS: 0.00e+00\n",
      "Warning: Could only place 0 dynamic obstacles instead of 4 due to space constraints\n",
      "Episode 32, Step 36, Reward: -85000.68, Evacuated: 0, Deactivated: 4, MEAN TD LOSS: 0.00e+00\n",
      "Episode 33, Step 17, Reward: -30000.89, Evacuated: 0, Deactivated: 4, MEAN TD LOSS: 0.00e+00\n",
      "Warning: Could only place 0 dynamic obstacles instead of 2 due to space constraints\n",
      "Episode 34, Step 21, Reward: -32000.69, Evacuated: 0, Deactivated: 4, MEAN TD LOSS: 0.00e+00\n",
      "Episode 35, Step 31, Reward: -38003.06, Evacuated: 0, Deactivated: 4, MEAN TD LOSS: 0.00e+00\n",
      "Episode 36, Step 46, Reward: -57005.18, Evacuated: 0, Deactivated: 4, MEAN TD LOSS: 0.00e+00\n",
      "Episode 37, Step 61, Reward: -102006.27, Evacuated: 0, Deactivated: 4, MEAN TD LOSS: 0.00e+00\n",
      "Episode 38, Step 33, Reward: -14003.39, Evacuated: 0, Deactivated: 4, MEAN TD LOSS: 0.00e+00\n",
      "Episode 39, Step 9, Reward: -12001.17, Evacuated: 0, Deactivated: 4, MEAN TD LOSS: 0.00e+00\n",
      "Episode 40, Step 53, Reward: -98004.25, Evacuated: 0, Deactivated: 4, MEAN TD LOSS: 0.00e+00\n",
      "Episode 41, Step 25, Reward: -34002.04, Evacuated: 0, Deactivated: 4, MEAN TD LOSS: 0.00e+00\n",
      "Episode 42, Step 27, Reward: -53002.52, Evacuated: 0, Deactivated: 4, MEAN TD LOSS: 0.00e+00\n",
      "Episode 43, Step 57, Reward: -107003.57, Evacuated: 0, Deactivated: 4, MEAN TD LOSS: 0.00e+00\n",
      "Warning: Could only place 0 dynamic obstacles instead of 3 due to space constraints\n",
      "Episode 44, Step 33, Reward: -27001.10, Evacuated: 0, Deactivated: 4, MEAN TD LOSS: 0.00e+00\n",
      "Episode 45, Step 25, Reward: -36001.24, Evacuated: 0, Deactivated: 4, MEAN TD LOSS: 0.00e+00\n",
      "Episode 46, Step 62, Reward: -76002.06, Evacuated: 0, Deactivated: 4, MEAN TD LOSS: 0.00e+00\n",
      "Warning: Could only place 0 dynamic obstacles instead of 3 due to space constraints\n",
      "Episode 47, Step 44, Reward: -97000.97, Evacuated: 0, Deactivated: 4, MEAN TD LOSS: 0.00e+00\n",
      "Episode 48, Step 24, Reward: -59000.93, Evacuated: 0, Deactivated: 4, MEAN TD LOSS: 0.00e+00\n",
      "Warning: Could only place 0 dynamic obstacles instead of 3 due to space constraints\n",
      "Episode 49, Step 51, Reward: -119990.47, Evacuated: 1, Deactivated: 3, MEAN TD LOSS: 0.00e+00\n",
      "Episode 50, Step 66, Reward: -127991.15, Evacuated: 1, Deactivated: 3, MEAN TD LOSS: 0.00e+00\n",
      "Warning: Could only place 0 dynamic obstacles instead of 1 due to space constraints\n",
      "Episode 51, Step 26, Reward: -46000.51, Evacuated: 0, Deactivated: 4, MEAN TD LOSS: 0.00e+00\n",
      "Episode 52, Step 50, Reward: -93002.00, Evacuated: 0, Deactivated: 4, MEAN TD LOSS: 0.00e+00\n",
      "Warning: Could only place 0 dynamic obstacles instead of 4 due to space constraints\n",
      "Episode 53, Step 42, Reward: -95990.24, Evacuated: 1, Deactivated: 3, MEAN TD LOSS: 0.00e+00\n",
      "Episode 54, Step 31, Reward: -61002.79, Evacuated: 0, Deactivated: 4, MEAN TD LOSS: 0.00e+00\n",
      "Episode 55, Step 17, Reward: -26002.06, Evacuated: 0, Deactivated: 4, MEAN TD LOSS: 0.00e+00\n",
      "Episode 56, Step 134, Reward: -228008.72, Evacuated: 0, Deactivated: 4, MEAN TD LOSS: 0.00e+00\n",
      "Episode 57, Step 36, Reward: -63002.43, Evacuated: 0, Deactivated: 4, MEAN TD LOSS: 0.00e+00\n",
      "Episode 58, Step 16, Reward: -11001.31, Evacuated: 0, Deactivated: 4, MEAN TD LOSS: 0.00e+00\n",
      "Episode 59, Step 62, Reward: -120002.07, Evacuated: 0, Deactivated: 4, MEAN TD LOSS: 0.00e+00\n",
      "Warning: Could only place 0 dynamic obstacles instead of 3 due to space constraints\n",
      "Episode 60, Step 57, Reward: -99000.80, Evacuated: 0, Deactivated: 4, MEAN TD LOSS: 0.00e+00\n",
      "Episode 61, Step 20, Reward: -58001.09, Evacuated: 0, Deactivated: 4, MEAN TD LOSS: 0.00e+00\n",
      "Episode 62, Step 18, Reward: -22002.06, Evacuated: 0, Deactivated: 4, MEAN TD LOSS: 0.00e+00\n",
      "Episode 63, Step 68, Reward: -69005.20, Evacuated: 0, Deactivated: 4, MEAN TD LOSS: 0.00e+00\n",
      "Episode 64, Step 26, Reward: -68001.03, Evacuated: 0, Deactivated: 4, MEAN TD LOSS: 0.00e+00\n"
     ]
    },
    {
     "name": "stderr",
     "output_type": "stream",
     "text": [
      "/opt/conda/lib/python3.11/site-packages/torch/nn/modules/rnn.py:1139: UserWarning: RNN module weights are not part of single contiguous chunk of memory. This means they need to be compacted at every call, possibly greatly increasing memory usage. To compact weights again call flatten_parameters(). (Triggered internally at /home/conda/feedstock_root/build_artifacts/libtorch_1728241823685/work/aten/src/ATen/native/cudnn/RNN.cpp:1424.)\n",
      "  result = _VF.gru(input, hx, self._flat_weights, self.bias, self.num_layers,\n"
     ]
    },
    {
     "name": "stdout",
     "output_type": "stream",
     "text": [
      "Episode 65, Step 23, Reward: -27001.34, Evacuated: 0, Deactivated: 4, MEAN TD LOSS: 6.76e+02\n",
      "Episode 66, Step 18, Reward: -9000.65, Evacuated: 0, Deactivated: 4, MEAN TD LOSS: 4.94e+02\n",
      "Episode 67, Step 21, Reward: -20002.76, Evacuated: 0, Deactivated: 4, MEAN TD LOSS: 3.37e+02\n",
      "Episode 68, Step 46, Reward: -77001.33, Evacuated: 0, Deactivated: 4, MEAN TD LOSS: 2.15e+02\n",
      "Episode 69, Step 139, Reward: -220997.56, Evacuated: 1, Deactivated: 3, MEAN TD LOSS: 1.21e+02\n",
      "Warning: Could only place 0 dynamic obstacles instead of 1 due to space constraints\n",
      "Episode 70, Step 35, Reward: -6980.78, Evacuated: 2, Deactivated: 2, MEAN TD LOSS: 9.64e+01\n",
      "Episode 71, Step 35, Reward: -58001.78, Evacuated: 0, Deactivated: 4, MEAN TD LOSS: 8.62e+01\n",
      "Episode 72, Step 22, Reward: -32002.43, Evacuated: 0, Deactivated: 4, MEAN TD LOSS: 8.34e+01\n",
      "Episode 73, Step 31, Reward: -43002.49, Evacuated: 0, Deactivated: 4, MEAN TD LOSS: 8.11e+01\n",
      "Episode 74, Step 49, Reward: -110002.34, Evacuated: 0, Deactivated: 4, MEAN TD LOSS: 7.41e+01\n",
      "Episode 75, Step 139, Reward: -138995.74, Evacuated: 1, Deactivated: 3, MEAN TD LOSS: 6.47e+01\n",
      "Episode 76, Step 62, Reward: -89002.74, Evacuated: 0, Deactivated: 4, MEAN TD LOSS: 5.55e+01\n",
      "Episode 77, Step 15, Reward: -25001.78, Evacuated: 0, Deactivated: 4, MEAN TD LOSS: 5.51e+01\n",
      "Episode 78, Step 197, Reward: -330997.52, Evacuated: 1, Deactivated: 3, MEAN TD LOSS: 4.64e+01\n",
      "Episode 79, Step 62, Reward: -127003.22, Evacuated: 0, Deactivated: 4, MEAN TD LOSS: 4.31e+01\n",
      "Episode 80, Step 48, Reward: -98002.60, Evacuated: 0, Deactivated: 4, MEAN TD LOSS: 4.04e+01\n",
      "Episode 81, Step 32, Reward: -32002.83, Evacuated: 0, Deactivated: 4, MEAN TD LOSS: 4.01e+01\n",
      "Episode 82, Step 64, Reward: -110981.42, Evacuated: 2, Deactivated: 2, MEAN TD LOSS: 3.91e+01\n",
      "Episode 83, Step 4, Reward: -8000.24, Evacuated: 0, Deactivated: 4, MEAN TD LOSS: 3.59e+01\n",
      "Episode 84, Step 29, Reward: -25002.66, Evacuated: 0, Deactivated: 4, MEAN TD LOSS: 3.69e+01\n",
      "Episode 85, Step 40, Reward: -88002.00, Evacuated: 0, Deactivated: 4, MEAN TD LOSS: 3.79e+01\n",
      "Warning: Could only place 0 dynamic obstacles instead of 1 due to space constraints\n",
      "Episode 86, Step 22, Reward: -24000.94, Evacuated: 0, Deactivated: 4, MEAN TD LOSS: 3.49e+01\n",
      "Episode 87, Step 36, Reward: -70990.75, Evacuated: 1, Deactivated: 3, MEAN TD LOSS: 3.47e+01\n",
      "Episode 88, Step 28, Reward: -36002.35, Evacuated: 0, Deactivated: 4, MEAN TD LOSS: 3.50e+01\n",
      "Warning: Could only place 0 dynamic obstacles instead of 1 due to space constraints\n",
      "Episode 89, Step 31, Reward: -18990.88, Evacuated: 1, Deactivated: 3, MEAN TD LOSS: 3.43e+01\n",
      "Warning: Could only place 0 dynamic obstacles instead of 3 due to space constraints\n",
      "Episode 90, Step 78, Reward: -34971.62, Evacuated: 3, Deactivated: 1, MEAN TD LOSS: 3.25e+01\n",
      "Warning: Could only place 0 dynamic obstacles instead of 3 due to space constraints\n",
      "Episode 91, Step 13, Reward: -16000.47, Evacuated: 0, Deactivated: 4, MEAN TD LOSS: 3.14e+01\n",
      "Warning: Could only place 0 dynamic obstacles instead of 2 due to space constraints\n",
      "Episode 92, Step 46, Reward: -24970.49, Evacuated: 3, Deactivated: 1, MEAN TD LOSS: 3.08e+01\n",
      "Episode 93, Step 37, Reward: -43001.33, Evacuated: 0, Deactivated: 4, MEAN TD LOSS: 3.07e+01\n",
      "Episode 94, Step 61, Reward: -101981.40, Evacuated: 2, Deactivated: 2, MEAN TD LOSS: 2.88e+01\n",
      "Episode 95, Step 86, Reward: -143992.32, Evacuated: 1, Deactivated: 3, MEAN TD LOSS: 2.75e+01\n",
      "Episode 96, Step 82, Reward: -177002.40, Evacuated: 0, Deactivated: 4, MEAN TD LOSS: 2.68e+01\n",
      "Episode 97, Step 19, Reward: -39001.20, Evacuated: 0, Deactivated: 4, MEAN TD LOSS: 2.63e+01\n",
      "Episode 98, Step 12, Reward: -16000.71, Evacuated: 0, Deactivated: 4, MEAN TD LOSS: 2.83e+01\n",
      "Episode 99, Step 26, Reward: -40000.93, Evacuated: 0, Deactivated: 4, MEAN TD LOSS: 2.80e+01\n",
      "Warning: Could only place 0 dynamic obstacles instead of 1 due to space constraints\n",
      "Episode 100, Step 26, Reward: -33000.28, Evacuated: 0, Deactivated: 4, MEAN TD LOSS: 2.56e+01\n",
      "Episode 101, Step 9, Reward: -10001.15, Evacuated: 0, Deactivated: 4, MEAN TD LOSS: 2.47e+01\n",
      "Warning: Could only place 0 dynamic obstacles instead of 4 due to space constraints\n",
      "Episode 102, Step 30, Reward: -55000.80, Evacuated: 0, Deactivated: 4, MEAN TD LOSS: 2.51e+01\n",
      "Episode 103, Step 8, Reward: -14000.70, Evacuated: 0, Deactivated: 4, MEAN TD LOSS: 2.26e+01\n",
      "Warning: Could only place 0 dynamic obstacles instead of 1 due to space constraints\n",
      "Episode 104, Step 32, Reward: -44980.66, Evacuated: 2, Deactivated: 2, MEAN TD LOSS: 2.58e+01\n",
      "Episode 105, Step 47, Reward: -78990.98, Evacuated: 1, Deactivated: 3, MEAN TD LOSS: 2.59e+01\n",
      "Episode 106, Step 49, Reward: -89001.44, Evacuated: 0, Deactivated: 4, MEAN TD LOSS: 2.44e+01\n",
      "Warning: Could only place 0 dynamic obstacles instead of 3 due to space constraints\n",
      "Episode 107, Step 43, Reward: 39.25, Evacuated: 4, Deactivated: 0, MEAN TD LOSS: 2.27e+01\n",
      "Episode 108, Step 47, Reward: -91002.79, Evacuated: 0, Deactivated: 4, MEAN TD LOSS: 2.38e+01\n",
      "Episode 109, Step 56, Reward: -64006.33, Evacuated: 0, Deactivated: 4, MEAN TD LOSS: 2.30e+01\n",
      "Episode 110, Step 88, Reward: -153004.91, Evacuated: 0, Deactivated: 4, MEAN TD LOSS: 2.38e+01\n",
      "Episode 111, Step 19, Reward: -14000.69, Evacuated: 0, Deactivated: 4, MEAN TD LOSS: 2.24e+01\n",
      "Episode 112, Step 66, Reward: -105003.91, Evacuated: 0, Deactivated: 4, MEAN TD LOSS: 2.33e+01\n",
      "Warning: Could only place 0 dynamic obstacles instead of 4 due to space constraints\n",
      "Episode 113, Step 44, Reward: -38001.19, Evacuated: 0, Deactivated: 4, MEAN TD LOSS: 2.21e+01\n",
      "Episode 114, Step 50, Reward: 38.92, Evacuated: 4, Deactivated: 0, MEAN TD LOSS: 2.15e+01\n",
      "Episode 115, Step 133, Reward: -275996.12, Evacuated: 1, Deactivated: 3, MEAN TD LOSS: 2.15e+01\n",
      "Episode 116, Step 67, Reward: -24971.06, Evacuated: 3, Deactivated: 1, MEAN TD LOSS: 2.17e+01\n",
      "Episode 117, Step 69, Reward: -22973.62, Evacuated: 3, Deactivated: 1, MEAN TD LOSS: 2.28e+01\n",
      "Episode 118, Step 7, Reward: -16000.26, Evacuated: 0, Deactivated: 4, MEAN TD LOSS: 2.13e+01\n",
      "Episode 119, Step 92, Reward: -231992.73, Evacuated: 1, Deactivated: 3, MEAN TD LOSS: 2.17e+01\n",
      "Episode 120, Step 45, Reward: -35991.16, Evacuated: 1, Deactivated: 3, MEAN TD LOSS: 2.02e+01\n",
      "Episode 121, Step 42, Reward: -65980.81, Evacuated: 2, Deactivated: 2, MEAN TD LOSS: 1.96e+01\n",
      "Episode 122, Step 67, Reward: -89994.77, Evacuated: 1, Deactivated: 3, MEAN TD LOSS: 1.96e+01\n",
      "Episode 123, Step 62, Reward: -114992.83, Evacuated: 1, Deactivated: 3, MEAN TD LOSS: 2.04e+01\n",
      "Episode 124, Step 88, Reward: -44009.97, Evacuated: 0, Deactivated: 4, MEAN TD LOSS: 2.04e+01\n",
      "Episode 125, Step 15, Reward: -13001.57, Evacuated: 0, Deactivated: 4, MEAN TD LOSS: 2.09e+01\n",
      "Episode 126, Step 29, Reward: -40000.41, Evacuated: 0, Deactivated: 4, MEAN TD LOSS: 2.08e+01\n",
      "Episode 127, Step 500, Reward: -1472005.91, Evacuated: 0, Deactivated: 3, MEAN TD LOSS: 1.98e+01\n",
      "Episode 128, Step 34, Reward: 39.64, Evacuated: 4, Deactivated: 0, MEAN TD LOSS: 1.98e+01\n",
      "Warning: Could only place 0 dynamic obstacles instead of 4 due to space constraints\n",
      "Episode 129, Step 45, Reward: -81000.64, Evacuated: 0, Deactivated: 4, MEAN TD LOSS: 1.98e+01\n",
      "Episode 130, Step 12, Reward: -16001.49, Evacuated: 0, Deactivated: 4, MEAN TD LOSS: 1.88e+01\n",
      "Episode 131, Step 10, Reward: -18000.47, Evacuated: 0, Deactivated: 4, MEAN TD LOSS: 2.01e+01\n",
      "Episode 132, Step 74, Reward: -81005.12, Evacuated: 0, Deactivated: 4, MEAN TD LOSS: 1.98e+01\n",
      "Episode 133, Step 33, Reward: -55002.91, Evacuated: 0, Deactivated: 4, MEAN TD LOSS: 1.92e+01\n",
      "Episode 134, Step 15, Reward: -23001.46, Evacuated: 0, Deactivated: 4, MEAN TD LOSS: 2.00e+01\n",
      "Episode 135, Step 29, Reward: -37001.41, Evacuated: 0, Deactivated: 4, MEAN TD LOSS: 2.14e+01\n",
      "Warning: Could only place 0 dynamic obstacles instead of 3 due to space constraints\n",
      "Episode 136, Step 111, Reward: 37.36, Evacuated: 4, Deactivated: 0, MEAN TD LOSS: 2.11e+01\n",
      "Episode 137, Step 93, Reward: -122994.71, Evacuated: 1, Deactivated: 3, MEAN TD LOSS: 2.00e+01\n",
      "Episode 138, Step 69, Reward: -31972.67, Evacuated: 3, Deactivated: 1, MEAN TD LOSS: 2.09e+01\n",
      "Episode 139, Step 24, Reward: -22001.45, Evacuated: 0, Deactivated: 4, MEAN TD LOSS: 2.03e+01\n",
      "Episode 140, Step 20, Reward: -32001.20, Evacuated: 0, Deactivated: 4, MEAN TD LOSS: 1.95e+01\n",
      "Episode 141, Step 41, Reward: -67980.64, Evacuated: 2, Deactivated: 2, MEAN TD LOSS: 1.99e+01\n",
      "Episode 142, Step 49, Reward: -47971.59, Evacuated: 3, Deactivated: 1, MEAN TD LOSS: 1.95e+01\n",
      "Episode 143, Step 93, Reward: -91973.99, Evacuated: 3, Deactivated: 1, MEAN TD LOSS: 2.03e+01\n",
      "Episode 144, Step 25, Reward: -16000.93, Evacuated: 0, Deactivated: 4, MEAN TD LOSS: 1.92e+01\n",
      "Episode 145, Step 26, Reward: -16002.97, Evacuated: 0, Deactivated: 4, MEAN TD LOSS: 2.11e+01\n",
      "Warning: Could only place 0 dynamic obstacles instead of 3 due to space constraints\n",
      "Episode 146, Step 24, Reward: -51000.33, Evacuated: 0, Deactivated: 4, MEAN TD LOSS: 2.26e+01\n",
      "Episode 147, Step 13, Reward: -27000.37, Evacuated: 0, Deactivated: 4, MEAN TD LOSS: 2.05e+01\n",
      "Warning: Could only place 0 dynamic obstacles instead of 2 due to space constraints\n",
      "Episode 148, Step 29, Reward: -18970.20, Evacuated: 3, Deactivated: 1, MEAN TD LOSS: 2.10e+01\n",
      "Episode 149, Step 9, Reward: -18000.29, Evacuated: 0, Deactivated: 4, MEAN TD LOSS: 1.97e+01\n",
      "Warning: Could only place 0 dynamic obstacles instead of 3 due to space constraints\n",
      "Episode 150, Step 25, Reward: -55990.08, Evacuated: 1, Deactivated: 3, MEAN TD LOSS: 2.01e+01\n",
      "Episode 151, Step 14, Reward: -16001.28, Evacuated: 0, Deactivated: 4, MEAN TD LOSS: 2.11e+01\n",
      "Warning: Could only place 0 dynamic obstacles instead of 2 due to space constraints\n",
      "Episode 152, Step 42, Reward: -30990.55, Evacuated: 1, Deactivated: 3, MEAN TD LOSS: 1.98e+01\n",
      "Episode 153, Step 44, Reward: -72002.26, Evacuated: 0, Deactivated: 4, MEAN TD LOSS: 2.03e+01\n",
      "Episode 154, Step 101, Reward: 33.22, Evacuated: 4, Deactivated: 0, MEAN TD LOSS: 2.17e+01\n",
      "Episode 155, Step 56, Reward: -155991.40, Evacuated: 1, Deactivated: 3, MEAN TD LOSS: 2.04e+01\n",
      "Warning: Could only place 0 dynamic obstacles instead of 4 due to space constraints\n",
      "Episode 156, Step 20, Reward: -38979.96, Evacuated: 2, Deactivated: 2, MEAN TD LOSS: 1.97e+01\n",
      "Warning: Could only place 0 dynamic obstacles instead of 4 due to space constraints\n",
      "Episode 157, Step 30, Reward: -20970.40, Evacuated: 3, Deactivated: 1, MEAN TD LOSS: 2.03e+01\n",
      "Episode 158, Step 99, Reward: -263001.24, Evacuated: 0, Deactivated: 4, MEAN TD LOSS: 2.02e+01\n",
      "Episode 159, Step 46, Reward: -59004.23, Evacuated: 0, Deactivated: 4, MEAN TD LOSS: 2.10e+01\n",
      "Episode 160, Step 56, Reward: -35004.51, Evacuated: 0, Deactivated: 4, MEAN TD LOSS: 2.13e+01\n",
      "Warning: Could only place 0 dynamic obstacles instead of 3 due to space constraints\n",
      "Episode 161, Step 28, Reward: 39.82, Evacuated: 4, Deactivated: 0, MEAN TD LOSS: 2.11e+01\n",
      "Episode 162, Step 12, Reward: -20000.89, Evacuated: 0, Deactivated: 4, MEAN TD LOSS: 2.20e+01\n",
      "Episode 163, Step 12, Reward: -16000.72, Evacuated: 0, Deactivated: 4, MEAN TD LOSS: 1.99e+01\n",
      "Episode 164, Step 27, Reward: -16003.02, Evacuated: 0, Deactivated: 4, MEAN TD LOSS: 2.21e+01\n",
      "Warning: Could only place 0 dynamic obstacles instead of 2 due to space constraints\n",
      "Episode 165, Step 193, Reward: -65998.25, Evacuated: 1, Deactivated: 3, MEAN TD LOSS: 2.05e+01\n",
      "Episode 166, Step 44, Reward: -75991.32, Evacuated: 1, Deactivated: 3, MEAN TD LOSS: 2.03e+01\n",
      "Episode 167, Step 500, Reward: 23.01, Evacuated: 3, Deactivated: 0, MEAN TD LOSS: 2.04e+01\n",
      "Episode 168, Step 26, Reward: -16002.74, Evacuated: 0, Deactivated: 4, MEAN TD LOSS: 2.06e+01\n",
      "Episode 169, Step 39, Reward: -16004.53, Evacuated: 0, Deactivated: 4, MEAN TD LOSS: 2.24e+01\n",
      "Episode 170, Step 53, Reward: -31002.47, Evacuated: 0, Deactivated: 4, MEAN TD LOSS: 2.06e+01\n",
      "Episode 171, Step 48, Reward: 38.08, Evacuated: 4, Deactivated: 0, MEAN TD LOSS: 2.20e+01\n",
      "Episode 172, Step 72, Reward: 36.99, Evacuated: 4, Deactivated: 0, MEAN TD LOSS: 2.14e+01\n",
      "Episode 173, Step 67, Reward: -147992.35, Evacuated: 1, Deactivated: 3, MEAN TD LOSS: 2.16e+01\n",
      "Episode 174, Step 10, Reward: -21000.33, Evacuated: 0, Deactivated: 4, MEAN TD LOSS: 2.02e+01\n",
      "Episode 175, Step 15, Reward: -6001.29, Evacuated: 0, Deactivated: 4, MEAN TD LOSS: 1.94e+01\n",
      "Episode 176, Step 81, Reward: -192002.97, Evacuated: 0, Deactivated: 4, MEAN TD LOSS: 2.11e+01\n",
      "Warning: Could only place 0 dynamic obstacles instead of 1 due to space constraints\n",
      "Episode 177, Step 41, Reward: 39.51, Evacuated: 4, Deactivated: 0, MEAN TD LOSS: 2.23e+01\n",
      "Episode 178, Step 307, Reward: -266004.59, Evacuated: 0, Deactivated: 4, MEAN TD LOSS: 2.06e+01\n",
      "Episode 179, Step 411, Reward: -427048.19, Evacuated: 0, Deactivated: 4, MEAN TD LOSS: 2.05e+01\n",
      "Episode 180, Step 32, Reward: -35002.90, Evacuated: 0, Deactivated: 4, MEAN TD LOSS: 2.03e+01\n",
      "Episode 181, Step 23, Reward: -39002.10, Evacuated: 0, Deactivated: 4, MEAN TD LOSS: 1.99e+01\n",
      "Episode 182, Step 171, Reward: -308001.71, Evacuated: 1, Deactivated: 3, MEAN TD LOSS: 2.18e+01\n",
      "Episode 183, Step 17, Reward: -15000.52, Evacuated: 0, Deactivated: 4, MEAN TD LOSS: 2.43e+01\n",
      "Episode 184, Step 79, Reward: -97994.75, Evacuated: 1, Deactivated: 3, MEAN TD LOSS: 2.23e+01\n",
      "Episode 185, Step 24, Reward: -22000.86, Evacuated: 0, Deactivated: 4, MEAN TD LOSS: 2.25e+01\n",
      "Episode 186, Step 24, Reward: -18002.93, Evacuated: 0, Deactivated: 4, MEAN TD LOSS: 1.92e+01\n",
      "Episode 187, Step 29, Reward: 39.85, Evacuated: 4, Deactivated: 0, MEAN TD LOSS: 2.09e+01\n",
      "Episode 188, Step 34, Reward: -60003.81, Evacuated: 0, Deactivated: 4, MEAN TD LOSS: 2.03e+01\n",
      "Episode 189, Step 32, Reward: -47980.28, Evacuated: 2, Deactivated: 2, MEAN TD LOSS: 2.07e+01\n",
      "Episode 190, Step 55, Reward: -94000.90, Evacuated: 0, Deactivated: 4, MEAN TD LOSS: 2.17e+01\n",
      "Episode 191, Step 26, Reward: -23001.43, Evacuated: 0, Deactivated: 4, MEAN TD LOSS: 2.09e+01\n",
      "Episode 192, Step 46, Reward: -75003.61, Evacuated: 0, Deactivated: 4, MEAN TD LOSS: 2.01e+01\n",
      "Episode 193, Step 67, Reward: -101004.85, Evacuated: 0, Deactivated: 4, MEAN TD LOSS: 2.27e+01\n",
      "Episode 194, Step 74, Reward: -74003.87, Evacuated: 0, Deactivated: 4, MEAN TD LOSS: 2.15e+01\n",
      "Episode 195, Step 37, Reward: 39.20, Evacuated: 4, Deactivated: 0, MEAN TD LOSS: 2.19e+01\n",
      "Episode 196, Step 57, Reward: -18002.83, Evacuated: 0, Deactivated: 4, MEAN TD LOSS: 2.16e+01\n",
      "Episode 197, Step 19, Reward: -13000.85, Evacuated: 0, Deactivated: 4, MEAN TD LOSS: 1.98e+01\n",
      "Episode 198, Step 69, Reward: -138002.16, Evacuated: 0, Deactivated: 4, MEAN TD LOSS: 2.24e+01\n",
      "Episode 199, Step 23, Reward: -14002.83, Evacuated: 0, Deactivated: 4, MEAN TD LOSS: 2.14e+01\n",
      "Episode 200, Step 6, Reward: -15000.27, Evacuated: 0, Deactivated: 4, MEAN TD LOSS: 2.09e+01\n",
      "Model saved to ./pretrained_mixer\n"
     ]
    }
   ],
   "source": [
    "cloned_policy_net = DRQNetwork.load(cloned_policy_path).to(device)\n",
    "cloned_policy_net.gru.flatten_parameters()\n",
    "\n",
    "num_agents = 4\n",
    "central_state_size = 12 * num_agents + 901\n",
    "mixer = MixingNetwork(\n",
    "    num_agents=4,\n",
    "    central_state_size=central_state_size,\n",
    "    embedding_size=512,\n",
    "    hypernet_size=1028,\n",
    ").to(device)\n",
    "\n",
    "agent = MyAgent(\n",
    "    num_agents=4,\n",
    "    device=device,\n",
    "    policy_net=cloned_policy_net,\n",
    "    mixing_net=mixer,\n",
    "    buffer_size=2000,\n",
    "    batch_sequence_length=20,\n",
    "    batch_size=64,\n",
    "    lr=1e-4,\n",
    "    gamma=0.99,\n",
    "    epsilon=1.0,\n",
    "    epsilon_end=0.01,\n",
    "    epsilon_decay=0.9995,\n",
    "    target_update_freq=1,\n",
    "    tau=1e-3,\n",
    "    gradient_clipping_value=10,\n",
    ")\n",
    "\n",
    "# Freeze the policy\n",
    "for p in agent.policy_net.parameters():\n",
    "    p.requires_grad = False\n",
    "\n",
    "agent.optimizer = optim.AdamW(agent.mixer.parameters(), lr=agent.lr)\n",
    "\n",
    "agent, all_rewards, all_losses = train(agent, num_episodes=200)\n",
    "\n",
    "agent.mixer.save(pretrained_mixer_path)"
   ]
  },
  {
   "cell_type": "code",
   "execution_count": 23,
   "id": "bc4fe3e0-9227-4769-ad67-458820f14508",
   "metadata": {},
   "outputs": [
    {
     "data": {
      "image/png": "[encoded data removed]",
      "text/plain": [
       "<Figure size 640x480 with 1 Axes>"
      ]
     },
     "execution_count": 23,
     "metadata": {},
     "output_type": "execute_result"
    },
    {
     "name": "stdout",
     "output_type": "stream",
     "text": [
      "<Figure size 640x480 with 1 Axes>\n"
     ]
    }
   ],
   "source": [
    "fig, ax = plt.subplots()\n",
    "ax.semilogy(all_losses)\n",
    "ax.set_xlabel(\"Steps\")\n",
    "ax.set_ylabel(\"TD-Loss\")\n",
    "fig"
   ]
  },
  {
   "cell_type": "markdown",
   "id": "34ad2a0e-db61-4b3c-ab79-526d3be9b907",
   "metadata": {},
   "source": [
    "## Fine Tuning"
   ]
  },
  {
   "cell_type": "code",
   "execution_count": null,
   "id": "9553e730-483b-488e-a464-fccf5d44e6ad",
   "metadata": {},
   "outputs": [
    {
     "name": "stdout",
     "output_type": "stream",
     "text": [
      "Using QMIX agent with mixer network\n",
      "DRQNetwork(\n",
      "  (feature_layer): Sequential(\n",
      "    (0): Linear(in_features=42, out_features=512, bias=True)\n",
      "    (1): ReLU()\n",
      "    (2): Linear(in_features=512, out_features=512, bias=True)\n",
      "  )\n",
      "  (gru): GRU(512, 512, num_layers=2, batch_first=True)\n",
      "  (output_layer): Linear(in_features=512, out_features=7, bias=True)\n",
      ")\n",
      "MixingNetwork(\n",
      "  (hyper_w1): Sequential(\n",
      "    (0): Linear(in_features=949, out_features=1028, bias=True)\n",
      "    (1): ELU(alpha=1.0)\n",
      "    (2): Linear(in_features=1028, out_features=2048, bias=True)\n",
      "  )\n",
      "  (hyper_w2): Sequential(\n",
      "    (0): Linear(in_features=949, out_features=1028, bias=True)\n",
      "    (1): ELU(alpha=1.0)\n",
      "    (2): Linear(in_features=1028, out_features=512, bias=True)\n",
      "  )\n",
      "  (hyper_b1): Linear(in_features=949, out_features=512, bias=True)\n",
      "  (hyper_b2): Sequential(\n",
      "    (0): Linear(in_features=949, out_features=1028, bias=True)\n",
      "    (1): ELU(alpha=1.0)\n",
      "    (2): Linear(in_features=1028, out_features=1, bias=True)\n",
      "  )\n",
      ")\n",
      "Episode 1, Step 52, Reward: -93006.15, Evacuated: 0, Deactivated: 4, MEAN TD LOSS: 0.00e+00\n",
      "Warning: Could only place 0 dynamic obstacles instead of 1 due to space constraints\n",
      "Episode 2, Step 28, Reward: -75000.40, Evacuated: 0, Deactivated: 4, MEAN TD LOSS: 0.00e+00\n",
      "Episode 3, Step 122, Reward: -291006.56, Evacuated: 0, Deactivated: 4, MEAN TD LOSS: 0.00e+00\n",
      "Episode 4, Step 46, Reward: -54003.54, Evacuated: 0, Deactivated: 4, MEAN TD LOSS: 0.00e+00\n",
      "Episode 5, Step 26, Reward: -39002.44, Evacuated: 0, Deactivated: 4, MEAN TD LOSS: 0.00e+00\n",
      "Episode 6, Step 132, Reward: -228014.68, Evacuated: 0, Deactivated: 4, MEAN TD LOSS: 0.00e+00\n",
      "Episode 7, Step 54, Reward: -110002.80, Evacuated: 0, Deactivated: 4, MEAN TD LOSS: 0.00e+00\n",
      "Episode 8, Step 73, Reward: -105008.86, Evacuated: 0, Deactivated: 4, MEAN TD LOSS: 0.00e+00\n",
      "Warning: Could only place 0 dynamic obstacles instead of 3 due to space constraints\n",
      "Episode 9, Step 18, Reward: -37000.44, Evacuated: 0, Deactivated: 4, MEAN TD LOSS: 0.00e+00\n",
      "Episode 10, Step 52, Reward: -103004.68, Evacuated: 0, Deactivated: 4, MEAN TD LOSS: 0.00e+00\n",
      "Episode 11, Step 29, Reward: -43003.89, Evacuated: 0, Deactivated: 4, MEAN TD LOSS: 0.00e+00\n",
      "Episode 12, Step 9, Reward: -13000.87, Evacuated: 0, Deactivated: 4, MEAN TD LOSS: 0.00e+00\n",
      "Episode 13, Step 17, Reward: -27002.09, Evacuated: 0, Deactivated: 4, MEAN TD LOSS: 0.00e+00\n",
      "Episode 14, Step 98, Reward: -249004.03, Evacuated: 0, Deactivated: 4, MEAN TD LOSS: 0.00e+00\n",
      "Warning: Could only place 0 dynamic obstacles instead of 3 due to space constraints\n",
      "Episode 15, Step 32, Reward: -41001.35, Evacuated: 0, Deactivated: 4, MEAN TD LOSS: 0.00e+00\n",
      "Episode 16, Step 64, Reward: -142002.49, Evacuated: 0, Deactivated: 4, MEAN TD LOSS: 0.00e+00\n",
      "Episode 17, Step 47, Reward: -74003.11, Evacuated: 0, Deactivated: 4, MEAN TD LOSS: 0.00e+00\n",
      "Warning: Could only place 0 dynamic obstacles instead of 2 due to space constraints\n",
      "Episode 18, Step 76, Reward: -116002.56, Evacuated: 0, Deactivated: 4, MEAN TD LOSS: 0.00e+00\n",
      "Episode 19, Step 33, Reward: -53003.22, Evacuated: 0, Deactivated: 4, MEAN TD LOSS: 0.00e+00\n",
      "Episode 20, Step 25, Reward: -44001.39, Evacuated: 0, Deactivated: 4, MEAN TD LOSS: 0.00e+00\n",
      "Episode 21, Step 26, Reward: -47001.22, Evacuated: 0, Deactivated: 4, MEAN TD LOSS: 0.00e+00\n",
      "Warning: Could only place 0 dynamic obstacles instead of 1 due to space constraints\n",
      "Episode 22, Step 39, Reward: -71000.92, Evacuated: 0, Deactivated: 4, MEAN TD LOSS: 0.00e+00\n",
      "Episode 23, Step 87, Reward: -113007.37, Evacuated: 0, Deactivated: 4, MEAN TD LOSS: 0.00e+00\n",
      "Episode 24, Step 36, Reward: -64002.31, Evacuated: 0, Deactivated: 4, MEAN TD LOSS: 0.00e+00\n",
      "Episode 25, Step 101, Reward: -210008.24, Evacuated: 0, Deactivated: 4, MEAN TD LOSS: 0.00e+00\n",
      "Episode 26, Step 29, Reward: -73002.09, Evacuated: 0, Deactivated: 4, MEAN TD LOSS: 0.00e+00\n",
      "Episode 27, Step 25, Reward: -34003.16, Evacuated: 0, Deactivated: 4, MEAN TD LOSS: 0.00e+00\n",
      "Episode 28, Step 95, Reward: -235004.26, Evacuated: 0, Deactivated: 4, MEAN TD LOSS: 0.00e+00\n",
      "Episode 29, Step 24, Reward: -54001.85, Evacuated: 0, Deactivated: 4, MEAN TD LOSS: 0.00e+00\n",
      "Episode 30, Step 11, Reward: -26000.53, Evacuated: 0, Deactivated: 4, MEAN TD LOSS: 0.00e+00\n",
      "Episode 31, Step 80, Reward: -148007.56, Evacuated: 0, Deactivated: 4, MEAN TD LOSS: 0.00e+00\n",
      "Episode 32, Step 25, Reward: -23001.06, Evacuated: 0, Deactivated: 4, MEAN TD LOSS: 0.00e+00\n",
      "Episode 33, Step 98, Reward: -205993.21, Evacuated: 1, Deactivated: 3, MEAN TD LOSS: 0.00e+00\n",
      "Episode 34, Step 53, Reward: -98002.38, Evacuated: 0, Deactivated: 4, MEAN TD LOSS: 0.00e+00\n",
      "Episode 35, Step 34, Reward: -52003.16, Evacuated: 0, Deactivated: 4, MEAN TD LOSS: 0.00e+00\n",
      "Episode 36, Step 30, Reward: -66001.56, Evacuated: 0, Deactivated: 4, MEAN TD LOSS: 0.00e+00\n",
      "Episode 37, Step 24, Reward: -23001.64, Evacuated: 0, Deactivated: 4, MEAN TD LOSS: 0.00e+00\n",
      "Episode 38, Step 19, Reward: -41001.15, Evacuated: 0, Deactivated: 4, MEAN TD LOSS: 0.00e+00\n",
      "Episode 39, Step 47, Reward: -46005.42, Evacuated: 0, Deactivated: 4, MEAN TD LOSS: 0.00e+00\n",
      "Episode 40, Step 32, Reward: -53002.98, Evacuated: 0, Deactivated: 4, MEAN TD LOSS: 0.00e+00\n",
      "Episode 41, Step 28, Reward: -74001.65, Evacuated: 0, Deactivated: 4, MEAN TD LOSS: 0.00e+00\n",
      "Episode 42, Step 42, Reward: -93001.89, Evacuated: 0, Deactivated: 4, MEAN TD LOSS: 0.00e+00\n",
      "Episode 43, Step 16, Reward: -16001.48, Evacuated: 0, Deactivated: 4, MEAN TD LOSS: 0.00e+00\n",
      "Episode 44, Step 93, Reward: -60973.82, Evacuated: 3, Deactivated: 1, MEAN TD LOSS: 0.00e+00\n",
      "Episode 45, Step 96, Reward: -166995.28, Evacuated: 1, Deactivated: 3, MEAN TD LOSS: 0.00e+00\n",
      "Episode 46, Step 59, Reward: -136003.73, Evacuated: 0, Deactivated: 4, MEAN TD LOSS: 0.00e+00\n",
      "Episode 47, Step 21, Reward: -18001.72, Evacuated: 0, Deactivated: 4, MEAN TD LOSS: 0.00e+00\n",
      "Episode 48, Step 17, Reward: -19001.52, Evacuated: 0, Deactivated: 4, MEAN TD LOSS: 0.00e+00\n",
      "Episode 49, Step 34, Reward: -62001.82, Evacuated: 0, Deactivated: 4, MEAN TD LOSS: 0.00e+00\n",
      "Episode 50, Step 68, Reward: -153001.66, Evacuated: 0, Deactivated: 4, MEAN TD LOSS: 0.00e+00\n",
      "Episode 51, Step 92, Reward: -111006.43, Evacuated: 0, Deactivated: 4, MEAN TD LOSS: 0.00e+00\n",
      "Episode 52, Step 49, Reward: -99003.28, Evacuated: 0, Deactivated: 4, MEAN TD LOSS: 0.00e+00\n",
      "Episode 53, Step 42, Reward: -79002.37, Evacuated: 0, Deactivated: 4, MEAN TD LOSS: 0.00e+00\n",
      "Episode 54, Step 38, Reward: -29006.00, Evacuated: 0, Deactivated: 4, MEAN TD LOSS: 0.00e+00\n",
      "Episode 55, Step 37, Reward: -56004.54, Evacuated: 0, Deactivated: 4, MEAN TD LOSS: 0.00e+00\n",
      "Episode 56, Step 42, Reward: -110001.24, Evacuated: 0, Deactivated: 4, MEAN TD LOSS: 0.00e+00\n",
      "Episode 57, Step 16, Reward: -22001.67, Evacuated: 0, Deactivated: 4, MEAN TD LOSS: 0.00e+00\n",
      "Episode 58, Step 80, Reward: -89982.19, Evacuated: 2, Deactivated: 2, MEAN TD LOSS: 0.00e+00\n",
      "Episode 59, Step 45, Reward: -118001.21, Evacuated: 0, Deactivated: 4, MEAN TD LOSS: 0.00e+00\n",
      "Episode 60, Step 31, Reward: -52002.77, Evacuated: 0, Deactivated: 4, MEAN TD LOSS: 0.00e+00\n",
      "Warning: Could only place 0 dynamic obstacles instead of 2 due to space constraints\n",
      "Episode 61, Step 33, Reward: -48990.50, Evacuated: 1, Deactivated: 3, MEAN TD LOSS: 0.00e+00\n",
      "Episode 62, Step 33, Reward: -34003.18, Evacuated: 0, Deactivated: 4, MEAN TD LOSS: 0.00e+00\n",
      "Episode 63, Step 47, Reward: -84002.03, Evacuated: 0, Deactivated: 4, MEAN TD LOSS: 0.00e+00\n",
      "Warning: Could only place 0 dynamic obstacles instead of 1 due to space constraints\n",
      "Episode 64, Step 30, Reward: -78990.22, Evacuated: 1, Deactivated: 3, MEAN TD LOSS: 0.00e+00\n"
     ]
    },
    {
     "name": "stderr",
     "output_type": "stream",
     "text": [
      "/opt/conda/lib/python3.11/site-packages/torch/nn/modules/rnn.py:1139: UserWarning: RNN module weights are not part of single contiguous chunk of memory. This means they need to be compacted at every call, possibly greatly increasing memory usage. To compact weights again call flatten_parameters(). (Triggered internally at /home/conda/feedstock_root/build_artifacts/libtorch_1728241823685/work/aten/src/ATen/native/cudnn/RNN.cpp:1424.)\n",
      "  result = _VF.gru(input, hx, self._flat_weights, self.bias, self.num_layers,\n"
     ]
    },
    {
     "name": "stdout",
     "output_type": "stream",
     "text": [
      "Episode 65, Step 60, Reward: -97005.80, Evacuated: 0, Deactivated: 4, MEAN TD LOSS: 4.56e+01\n",
      "Episode 66, Step 155, Reward: -351008.77, Evacuated: 0, Deactivated: 4, MEAN TD LOSS: 2.22e+01\n",
      "Episode 67, Step 72, Reward: -134006.06, Evacuated: 0, Deactivated: 4, MEAN TD LOSS: 1.62e+01\n",
      "Episode 68, Step 500, Reward: -674069.26, Evacuated: 0, Deactivated: 3, MEAN TD LOSS: 1.19e+01\n",
      "Episode 69, Step 98, Reward: -234007.60, Evacuated: 0, Deactivated: 4, MEAN TD LOSS: 9.20e+00\n",
      "Episode 70, Step 331, Reward: -916011.25, Evacuated: 0, Deactivated: 4, MEAN TD LOSS: 8.34e+00\n",
      "Episode 71, Step 118, Reward: -206003.66, Evacuated: 0, Deactivated: 4, MEAN TD LOSS: 7.80e+00\n",
      "Episode 72, Step 67, Reward: -153002.16, Evacuated: 0, Deactivated: 4, MEAN TD LOSS: 7.59e+00\n",
      "Episode 73, Step 306, Reward: -307011.97, Evacuated: 0, Deactivated: 4, MEAN TD LOSS: 6.90e+00\n",
      "Episode 74, Step 500, Reward: -113.11, Evacuated: 0, Deactivated: 0, MEAN TD LOSS: 6.39e+00\n",
      "Warning: Could only place 0 dynamic obstacles instead of 2 due to space constraints\n",
      "Episode 75, Step 476, Reward: -1157015.29, Evacuated: 0, Deactivated: 4, MEAN TD LOSS: 5.92e+00\n",
      "Episode 76, Step 12, Reward: -14000.67, Evacuated: 0, Deactivated: 4, MEAN TD LOSS: 6.30e+00\n",
      "Episode 77, Step 500, Reward: -357040.57, Evacuated: 0, Deactivated: 3, MEAN TD LOSS: 5.46e+00\n",
      "Episode 78, Step 500, Reward: -80.66, Evacuated: 0, Deactivated: 0, MEAN TD LOSS: 5.14e+00\n",
      "Warning: Could only place 0 dynamic obstacles instead of 1 due to space constraints\n",
      "Episode 84, Step 500, Reward: -775067.53, Evacuated: 0, Deactivated: 2, MEAN TD LOSS: 4.98e+00\n",
      "Warning: Could only place 0 dynamic obstacles instead of 2 due to space constraints\n",
      "Episode 85, Step 500, Reward: -605032.22, Evacuated: 0, Deactivated: 2, MEAN TD LOSS: 4.75e+00\n",
      "Episode 86, Step 500, Reward: -981056.50, Evacuated: 0, Deactivated: 2, MEAN TD LOSS: 4.63e+00\n",
      "Warning: Could only place 0 dynamic obstacles instead of 3 due to space constraints\n",
      "Episode 87, Step 256, Reward: -599009.86, Evacuated: 0, Deactivated: 4, MEAN TD LOSS: 4.53e+00\n",
      "Episode 88, Step 500, Reward: -89.40, Evacuated: 0, Deactivated: 0, MEAN TD LOSS: 4.47e+00\n",
      "Episode 89, Step 500, Reward: -389049.06, Evacuated: 0, Deactivated: 1, MEAN TD LOSS: 4.38e+00\n",
      "Episode 90, Step 16, Reward: -18000.82, Evacuated: 0, Deactivated: 4, MEAN TD LOSS: 4.24e+00\n",
      "Episode 91, Step 500, Reward: -61.40, Evacuated: 0, Deactivated: 0, MEAN TD LOSS: 4.40e+00\n",
      "Warning: Could only place 0 dynamic obstacles instead of 2 due to space constraints\n",
      "Episode 92, Step 417, Reward: -888008.71, Evacuated: 0, Deactivated: 4, MEAN TD LOSS: 4.42e+00\n",
      "Episode 93, Step 500, Reward: -81.36, Evacuated: 0, Deactivated: 0, MEAN TD LOSS: 4.46e+00\n",
      "Episode 94, Step 500, Reward: -61.39, Evacuated: 0, Deactivated: 0, MEAN TD LOSS: 4.60e+00\n",
      "Episode 95, Step 12, Reward: -17000.88, Evacuated: 0, Deactivated: 4, MEAN TD LOSS: 4.63e+00\n",
      "Warning: Could only place 0 dynamic obstacles instead of 1 due to space constraints\n",
      "Episode 96, Step 500, Reward: -33.39, Evacuated: 0, Deactivated: 0, MEAN TD LOSS: 4.56e+00\n",
      "Episode 124, Step 500, Reward: -65055.86, Evacuated: 0, Deactivated: 1, MEAN TD LOSS: 4.66e+00\n",
      "Episode 125, Step 500, Reward: -65.14, Evacuated: 0, Deactivated: 0, MEAN TD LOSS: 4.84e+00\n",
      "Episode 126, Step 291, Reward: -489015.31, Evacuated: 0, Deactivated: 2, MEAN TD LOSS: 4.93e+00\n",
      "Simulation interrupted by the user\n"
     ]
    }
   ],
   "source": [
    "cloned_policy_net = DRQNetwork.load(cloned_policy_path).to(device)\n",
    "cloned_policy_net.train()\n",
    "cloned_policy_net.gru.flatten_parameters()\n",
    "\n",
    "pretrained_mixer = MixingNetwork.load(pretrained_mixer_path).to(device)\n",
    "pretrained_mixer.train()\n",
    "\n",
    "my_agent = MyAgent(\n",
    "    num_agents=4,\n",
    "    device=device,\n",
    "    policy_net=cloned_policy_net,\n",
    "    mixing_net=pretrained_mixer,\n",
    "    buffer_size=2000,\n",
    "    batch_sequence_length=20,\n",
    "    batch_size=64,\n",
    "    lr=1e-4,\n",
    "    gamma=0.99,\n",
    "    epsilon=1.0,\n",
    "    epsilon_end=0.01,\n",
    "    epsilon_decay=0.9995,\n",
    "    target_update_freq=1,\n",
    "    tau=1e-3,\n",
    "    gradient_clipping_value=1,\n",
    ")\n",
    "\n",
    "my_agent.optimizer = optim.AdamW(\n",
    "    list(my_agent.policy_net.parameters()) + list(my_agent.mixer.parameters()),\n",
    "    lr=1e-5,\n",
    "    weight_decay=1e-5,\n",
    "    eps=1e-5,\n",
    ")\n",
    "\n",
    "trained_agent, all_rewards, all_losses = train(my_agent, num_episodes=2000)"
   ]
  },
  {
   "cell_type": "code",
   "execution_count": 25,
   "id": "52cde88f-7837-4549-933b-907b1df2da34",
   "metadata": {},
   "outputs": [
    {
     "data": {
      "image/png": "[encoded data removed]",
      "text/plain": [
       "<Figure size 640x480 with 1 Axes>"
      ]
     },
     "execution_count": 25,
     "metadata": {},
     "output_type": "execute_result"
    },
    {
     "name": "stdout",
     "output_type": "stream",
     "text": [
      "<Figure size 640x480 with 1 Axes>\n"
     ]
    }
   ],
   "source": [
    "fig, ax = plt.subplots()\n",
    "ax.semilogy(all_losses)\n",
    "ax.set_xlabel(\"Steps\")\n",
    "ax.set_ylabel(\"TD-Loss\")\n",
    "fig"
   ]
  },
  {
   "cell_type": "code",
   "execution_count": 32,
   "id": "03745707-313c-4601-ab2a-9a2466f36074",
   "metadata": {},
   "outputs": [
    {
     "data": {
      "image/png": "[encoded data removed]",
      "text/plain": [
       "<Figure size 1000x600 with 1 Axes>"
      ]
     },
     "execution_count": 32,
     "metadata": {},
     "output_type": "execute_result"
    },
    {
     "name": "stdout",
     "output_type": "stream",
     "text": [
      "<Figure size 1000x600 with 1 Axes>\n"
     ]
    }
   ],
   "source": [
    "simulate.plot_cumulated_rewards(all_rewards)"
   ]
  },
  {
   "cell_type": "markdown",
   "id": "c2ac3652-834a-4943-a2f6-96dc395a21ae",
   "metadata": {},
   "source": [
    "## 2. Evaluation"
   ]
  },
  {
   "cell_type": "code",
   "execution_count": null,
   "id": "16713487-5971-4789-bc72-08bc1fb2dc63",
   "metadata": {},
   "outputs": [],
   "source": [
    "eval_config_paths = [f\"./eval_configs/config_{i}.json\" for i in range(1, 11)]"
   ]
  },
  {
   "cell_type": "code",
   "execution_count": null,
   "id": "8f7ddc0a-19ce-4e67-996f-a19432201b6f",
   "metadata": {
    "scrolled": true
   },
   "outputs": [],
   "source": [
    "all_results = simulate.evaluate(eval_config_paths, trained_agent)"
   ]
  },
  {
   "cell_type": "code",
   "execution_count": null,
   "id": "7e43948f",
   "metadata": {},
   "outputs": [],
   "source": [
    "display(all_results)"
   ]
  },
  {
   "cell_type": "code",
   "execution_count": null,
   "id": "e82856a0",
   "metadata": {},
   "outputs": [],
   "source": [
    "# Calculate averages for each configuration\n",
    "averages = all_results.groupby('config_path').mean().reset_index().drop(columns=['episode'])\n",
    "averages = averages.rename(columns={\n",
    "    'steps': 'avg_steps',\n",
    "    'reward': 'avg_reward',\n",
    "    'evacuated': 'avg_evacuated',\n",
    "    'deactivated': 'avg_deactivated'})\n",
    "\n",
    "display(averages)\n",
    "averages.to_csv('averages.csv', index=False)"
   ]
  }
 ],
 "metadata": {
  "kernelspec": {
   "display_name": "Python 3 (ipykernel)",
   "language": "python",
   "name": "python3"
  },
  "language_info": {
   "codemirror_mode": {
    "name": "ipython",
    "version": 3
   },
   "file_extension": ".py",
   "mimetype": "text/x-python",
   "name": "python",
   "nbconvert_exporter": "python",
   "pygments_lexer": "ipython3",
   "version": "3.11.11"
  },
  "vscode": {
   "interpreter": {
    "hash": "9240d949b7e875368571ba59acc67192d2efbcc4561b3c6f94c83d7858e18732"
   }
  }
 },
 "nbformat": 4,
 "nbformat_minor": 5
}
