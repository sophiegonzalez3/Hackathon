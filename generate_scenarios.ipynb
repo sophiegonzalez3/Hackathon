import scenario
import json
import numpy as np
import os

# Générer les scénarios
scenarios = scenario.generate_scenarios(11)

# Créer le dossier eval_configs
folder_path = 'eval_configs'
os.makedirs(folder_path, exist_ok=True)

# Sauvegarde chaque scénario dans un fichier unique
for i, scenario in enumerate(scenarios, start=1):
    filename = os.path.join(folder_path, f"config_{i}.json")
    with open(filename, "w") as f:
        json.dump(scenario, f, indent=4)
    print(f"Scénario {i} sauvegardé dans {filename}")
