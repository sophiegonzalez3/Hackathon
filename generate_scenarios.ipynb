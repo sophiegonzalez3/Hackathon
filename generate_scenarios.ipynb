{
 "cells": [
  {
   "cell_type": "code",
   "execution_count": null,
   "metadata": {},
   "outputs": [],
   "source": [
    "import scenario\n",
    "import json\n",
    "import numpy as np\n",
    "import os\n",
    "\n",
    "# Générer les scénarios\n",
    "scenarios = scenario.generate_scenarios(11)\n",
    "\n",
    "# Créer le dossier eval_configs\n",
    "folder_path = 'eval_configs'\n",
    "os.makedirs(folder_path, exist_ok=True)\n",
    "\n",
    "# Sauvegarde chaque scénario dans un fichier unique\n",
    "for i, scenario in enumerate(scenarios, start=1):\n",
    "    filename = os.path.join(folder_path, f\"config_{i}.json\")\n",
    "    with open(filename, \"w\") as f:\n",
    "        json.dump(scenario, f, indent=4)\n",
    "    print(f\"Scénario {i} sauvegardé dans {filename}\")\n"
   ]
  }
 ],
 "metadata": {
  "language_info": {
   "name": "python"
  }
 },
 "nbformat": 4,
 "nbformat_minor": 2
}
